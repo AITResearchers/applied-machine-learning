{
 "cells": [
  {
   "cell_type": "markdown",
   "metadata": {},
   "source": [
    "# Framing the Problem\n",
    "\n",
    "### What is credit risk?\n",
    "\n",
    "A credit risk is the **risk of default** on a debt that may arise from a borrower failing to make required payments. In the first resort, the risk is that of the lender and includes lost principal and interest, disruption to cash flows, and increased collection costs. The loss may be complete or partial. In an efficient market, higher levels of credit risk will be associated with higher borrowing costs.\n",
    "\n",
    "Losses can arise in a number of circumstances. For example:\n",
    "\n",
    "- A consumer may fail to make a payment due on a mortgage loan, credit card, line of credit, or other loan.\n",
    "- A company is unable to repay asset-secured fixed or floating charge debt.\n",
    "- A business or consumer does not pay a trade invoice when due.\n",
    "- A business does not pay an employee's earned wages when due.\n",
    "- A business or government bond issuer does not make a payment on a coupon or principal payment when due.\n",
    "- An insolvent insurance company does not pay a policy obligation.\n",
    "- An insolvent bank won't return funds to a depositor.\n",
    "- A government grants bankruptcy protection to an insolvent consumer or business.\n",
    "\n",
    "To reduce the lender's credit risk:\n",
    "\n",
    "- the lender may perform a credit check on the prospective borrower\n",
    "- may require the borrower to take out appropriate insurance, such as mortgage insurance, or \n",
    "- seek security over some assets of the borrower or a guarantee from a third party. \n",
    "\n",
    "The lender can also take out insurance against the risk or on-sell the debt to another company. In general, the higher the risk, the higher will be the interest rate that the debtor will be asked to pay on the debt. Credit risk mainly arises when borrowers are unable to pay due willingly or unwillingly.\n",
    "\n",
    "Re-iterating credit risk:\n",
    "\n",
    "- Credit risk refers to the risk that a borrower may not repay a loan and that the lender may lose the principal of the loan or the interest associated with it. (Eg: Failure to pay back mortgages, credit cards, personal loans, etc)\n",
    "\n",
    "- Higher credit risk equates to higher borrowing costs.\n",
    "\n",
    "For a lender(eg: bank), it is of paramount importance to assess credit risk of the borrower. \n",
    "\n",
    "\n",
    "source: [wikipedia](https://en.wikipedia.org/wiki/Credit_risk), [investopedia](http://www.investopedia.com/terms/c/creditrisk.asp), [Datacamp Course using R](https://www.datacamp.com/courses/introduction-to-credit-risk-modeling-in-r)"
   ]
  },
  {
   "cell_type": "markdown",
   "metadata": {},
   "source": [
    "# Problem Statement\n",
    "\n",
    "XYZ Bank wants to build a credit risk model for its personal loan division. XYZ has given personal loans before and has historical data about the customers and knows whether the loan defaulted or not. If the loan had defaulted, the amount defaulted was recorded.\n",
    "\n",
    "It wants you to build a credit risk model for its bankers.\n",
    "\n",
    "It will use it to determine whether to provide loan to applicants or not."
   ]
  },
  {
   "cell_type": "markdown",
   "metadata": {},
   "source": [
    "# Approach\n",
    "\n",
    "A very typical approach is to estimate the following two metrics for every applicant:\n",
    "\n",
    "`Probability of Default`: What is the probability that the applicant will default, if given the loan\n",
    "\n",
    "`Loss Given Default`: If the applicant defaults on the loan, what will be loss incurred by the bank?\n",
    "\n",
    "For the purpose of this model, Bank XYZ has asked you to ignore cash flows from interest and other costs incurred by the bank for processing and maintaining the loan and use only the data provided in the data. "
   ]
  }
 ],
 "metadata": {
  "anaconda-cloud": {},
  "kernelspec": {
   "display_name": "Python [conda root]",
   "language": "python",
   "name": "conda-root-py"
  },
  "language_info": {
   "codemirror_mode": {
    "name": "ipython",
    "version": 3
   },
   "file_extension": ".py",
   "mimetype": "text/x-python",
   "name": "python",
   "nbconvert_exporter": "python",
   "pygments_lexer": "ipython3",
   "version": "3.5.2"
  }
 },
 "nbformat": 4,
 "nbformat_minor": 1
}
