{
 "cells": [
  {
   "cell_type": "markdown",
   "metadata": {},
   "source": [
    "# Credit Risk Modeling\n",
    "\n",
    "### What is credit risk?\n",
    "\n",
    "A credit risk is the **risk of default** on a debt that may arise from a borrower failing to make required payments. In the first resort, the risk is that of the lender and includes lost principal and interest, disruption to cash flows, and increased collection costs. The loss may be complete or partial. In an efficient market, higher levels of credit risk will be associated with higher borrowing costs.\n",
    "\n",
    "Losses can arise in a number of circumstances. For example:\n",
    "\n",
    "- A consumer may fail to make a payment due on a mortgage loan, credit card, line of credit, or other loan.\n",
    "- A company is unable to repay asset-secured fixed or floating charge debt.\n",
    "- A business or consumer does not pay a trade invoice when due.\n",
    "- A business does not pay an employee's earned wages when due.\n",
    "- A business or government bond issuer does not make a payment on a coupon or principal payment when due.\n",
    "- An insolvent insurance company does not pay a policy obligation.\n",
    "- An insolvent bank won't return funds to a depositor.\n",
    "- A government grants bankruptcy protection to an insolvent consumer or business.\n",
    "\n",
    "To reduce the lender's credit risk:\n",
    "\n",
    "- the lender may perform a credit check on the prospective borrower\n",
    "- may require the borrower to take out appropriate insurance, such as mortgage insurance, or \n",
    "- seek security over some assets of the borrower or a guarantee from a third party. \n",
    "\n",
    "The lender can also take out insurance against the risk or on-sell the debt to another company. In general, the higher the risk, the higher will be the interest rate that the debtor will be asked to pay on the debt. Credit risk mainly arises when borrowers are unable to pay due willingly or unwillingly.\n",
    "\n",
    "Re-iterating credit risk:\n",
    "\n",
    "- Credit risk refers to the risk that a borrower may not repay a loan and that the lender may lose the principal of the loan or the interest associated with it. (Eg: Failure to pay back mortgages, credit cards, personal loans, etc)\n",
    "\n",
    "- Higher credit risk equates to higher borrowing costs.\n",
    "\n",
    "For a lender(eg: bank), it is of paramount importance to assess credit risk of the borrower. \n",
    "\n",
    "\n",
    "source: [wikipedia](https://en.wikipedia.org/wiki/Credit_risk), [investopedia](http://www.investopedia.com/terms/c/creditrisk.asp), [Datacamp Course using R](https://www.datacamp.com/courses/introduction-to-credit-risk-modeling-in-r)"
   ]
  },
  {
   "cell_type": "markdown",
   "metadata": {},
   "source": [
    "# Problem Statement\n",
    "\n",
    "XYZ Bank wants to build a credit risk model for its personal loan division. XYZ has given personal loans before and has historical data about the customers and knows whether the loan defaulted or not. If the loan had defaulted, the amount defaulted was recorded.\n",
    "\n",
    "It wants you to build a credit risk model for its bankers.\n",
    "\n",
    "It will use it to determine whether to provide loan to applicants or not."
   ]
  },
  {
   "cell_type": "markdown",
   "metadata": {},
   "source": [
    "# Approach\n",
    "\n",
    "A very typical approach is to estimate the following two metrics for every applicant:\n",
    "\n",
    "`Probability of Default`: What is the probability that the applicant will default, if given the loan\n",
    "\n",
    "`Loss Given Default`: If the applicant defaults on the loan, what will be loss incurred by the bank?\n",
    "\n",
    "For the purpose of this model, Bank XYZ has asked you to ignore cash flows from interest and other costs incurred by the bank for processing and maintaining the loan and use only the data provided in the data. "
   ]
  },
  {
   "cell_type": "markdown",
   "metadata": {},
   "source": [
    "# Data\n",
    "\n",
    "You are provided with the following data:\n",
    "\n",
    "**train_creditRisk.csv**  \n",
    "This is the historical data that the bank has provided. It has the following columns\n",
    "\n",
    "`loan_amnt` : Amount of Loan provided to the applicant  \n",
    "`int_rate`: Interest rate charged for the applicant  \n",
    "`grade`:  Employment Grade of the applicant  \n",
    "`emp_length`: Number of years the applicant has been employed  \n",
    "`home_ownership`: Whether the applicant owns a house or not  \n",
    "`annual_inc`:  Annual income of the applicant  \n",
    "`age`: Age of the applicant  \n",
    "`default` : Whether the applicant has defaulted or not (target variable)  \n",
    "`default_amount`:  What was the loan amount that was defaulted (target variable)\n",
    "\n",
    "**testFeatures_creditRisk.csv**  \n",
    "This dataset has the features of the applicants that you need to score and provide *probability of default* and *loss given default* metrics. It has the same set of columns as the train dataset, except the `default` and `default_amount` columns.\n",
    "\n",
    "\n",
    "**testLabels_creditRisk.csv**  \n",
    "This has the target columns of the test dataset. Once the model has been finalized, the accuracy of the model is found out by comparing the predictions against the actual. "
   ]
  },
  {
   "cell_type": "markdown",
   "metadata": {},
   "source": [
    "# Loading the data"
   ]
  },
  {
   "cell_type": "code",
   "execution_count": 1,
   "metadata": {
    "collapsed": true
   },
   "outputs": [],
   "source": [
    "import numpy as np\n",
    "import pandas as pd"
   ]
  },
  {
   "cell_type": "code",
   "execution_count": 2,
   "metadata": {
    "collapsed": true
   },
   "outputs": [],
   "source": [
    "#Load the training dataset\n",
    "train = pd.read_csv(\"data/train_creditRisk.csv\")"
   ]
  },
  {
   "cell_type": "code",
   "execution_count": 3,
   "metadata": {
    "collapsed": false
   },
   "outputs": [
    {
     "data": {
      "text/html": [
       "<div>\n",
       "<table border=\"1\" class=\"dataframe\">\n",
       "  <thead>\n",
       "    <tr style=\"text-align: right;\">\n",
       "      <th></th>\n",
       "      <th>loan_amnt</th>\n",
       "      <th>int_rate</th>\n",
       "      <th>grade</th>\n",
       "      <th>emp_length</th>\n",
       "      <th>home_ownership</th>\n",
       "      <th>annual_inc</th>\n",
       "      <th>age</th>\n",
       "      <th>default</th>\n",
       "      <th>default_amount</th>\n",
       "    </tr>\n",
       "  </thead>\n",
       "  <tbody>\n",
       "    <tr>\n",
       "      <th>0</th>\n",
       "      <td>16500</td>\n",
       "      <td>12.18</td>\n",
       "      <td>B</td>\n",
       "      <td>8.0</td>\n",
       "      <td>OWN</td>\n",
       "      <td>75000.0</td>\n",
       "      <td>24</td>\n",
       "      <td>0</td>\n",
       "      <td>0</td>\n",
       "    </tr>\n",
       "    <tr>\n",
       "      <th>1</th>\n",
       "      <td>2000</td>\n",
       "      <td>NaN</td>\n",
       "      <td>A</td>\n",
       "      <td>1.0</td>\n",
       "      <td>RENT</td>\n",
       "      <td>33000.0</td>\n",
       "      <td>22</td>\n",
       "      <td>0</td>\n",
       "      <td>0</td>\n",
       "    </tr>\n",
       "    <tr>\n",
       "      <th>2</th>\n",
       "      <td>15000</td>\n",
       "      <td>15.99</td>\n",
       "      <td>D</td>\n",
       "      <td>14.0</td>\n",
       "      <td>MORTGAGE</td>\n",
       "      <td>40000.0</td>\n",
       "      <td>22</td>\n",
       "      <td>1</td>\n",
       "      <td>8792</td>\n",
       "    </tr>\n",
       "    <tr>\n",
       "      <th>3</th>\n",
       "      <td>5000</td>\n",
       "      <td>5.79</td>\n",
       "      <td>A</td>\n",
       "      <td>9.0</td>\n",
       "      <td>MORTGAGE</td>\n",
       "      <td>50000.0</td>\n",
       "      <td>25</td>\n",
       "      <td>0</td>\n",
       "      <td>0</td>\n",
       "    </tr>\n",
       "    <tr>\n",
       "      <th>4</th>\n",
       "      <td>8700</td>\n",
       "      <td>14.61</td>\n",
       "      <td>D</td>\n",
       "      <td>4.0</td>\n",
       "      <td>RENT</td>\n",
       "      <td>28320.0</td>\n",
       "      <td>28</td>\n",
       "      <td>0</td>\n",
       "      <td>0</td>\n",
       "    </tr>\n",
       "  </tbody>\n",
       "</table>\n",
       "</div>"
      ],
      "text/plain": [
       "   loan_amnt  int_rate grade  emp_length home_ownership  annual_inc  age  \\\n",
       "0      16500     12.18     B         8.0            OWN     75000.0   24   \n",
       "1       2000       NaN     A         1.0           RENT     33000.0   22   \n",
       "2      15000     15.99     D        14.0       MORTGAGE     40000.0   22   \n",
       "3       5000      5.79     A         9.0       MORTGAGE     50000.0   25   \n",
       "4       8700     14.61     D         4.0           RENT     28320.0   28   \n",
       "\n",
       "   default  default_amount  \n",
       "0        0               0  \n",
       "1        0               0  \n",
       "2        1            8792  \n",
       "3        0               0  \n",
       "4        0               0  "
      ]
     },
     "execution_count": 3,
     "metadata": {},
     "output_type": "execute_result"
    }
   ],
   "source": [
    "#View the first few rows of train\n",
    "train.head()"
   ]
  },
  {
   "cell_type": "code",
   "execution_count": 4,
   "metadata": {
    "collapsed": false
   },
   "outputs": [
    {
     "data": {
      "text/plain": [
       "Index(['loan_amnt', 'int_rate', 'grade', 'emp_length', 'home_ownership',\n",
       "       'annual_inc', 'age', 'default', 'default_amount'],\n",
       "      dtype='object')"
      ]
     },
     "execution_count": 4,
     "metadata": {},
     "output_type": "execute_result"
    }
   ],
   "source": [
    "#View the columns of the train dataset\n",
    "train.columns"
   ]
  },
  {
   "cell_type": "code",
   "execution_count": 5,
   "metadata": {
    "collapsed": false
   },
   "outputs": [
    {
     "data": {
      "text/plain": [
       "loan_amnt           int64\n",
       "int_rate          float64\n",
       "grade              object\n",
       "emp_length        float64\n",
       "home_ownership     object\n",
       "annual_inc        float64\n",
       "age                 int64\n",
       "default             int64\n",
       "default_amount      int64\n",
       "dtype: object"
      ]
     },
     "execution_count": 5,
     "metadata": {},
     "output_type": "execute_result"
    }
   ],
   "source": [
    "#View the data types of the train dataset\n",
    "train.dtypes"
   ]
  },
  {
   "cell_type": "code",
   "execution_count": 6,
   "metadata": {
    "collapsed": false
   },
   "outputs": [
    {
     "data": {
      "text/html": [
       "<div>\n",
       "<table border=\"1\" class=\"dataframe\">\n",
       "  <thead>\n",
       "    <tr style=\"text-align: right;\">\n",
       "      <th></th>\n",
       "      <th>loan_amnt</th>\n",
       "      <th>int_rate</th>\n",
       "      <th>emp_length</th>\n",
       "      <th>annual_inc</th>\n",
       "      <th>age</th>\n",
       "      <th>default</th>\n",
       "      <th>default_amount</th>\n",
       "    </tr>\n",
       "  </thead>\n",
       "  <tbody>\n",
       "    <tr>\n",
       "      <th>count</th>\n",
       "      <td>21819.000000</td>\n",
       "      <td>19727.000000</td>\n",
       "      <td>21223.000000</td>\n",
       "      <td>2.181900e+04</td>\n",
       "      <td>21819.000000</td>\n",
       "      <td>21819.000000</td>\n",
       "      <td>21819.000000</td>\n",
       "    </tr>\n",
       "    <tr>\n",
       "      <th>mean</th>\n",
       "      <td>9580.417297</td>\n",
       "      <td>11.004751</td>\n",
       "      <td>6.151015</td>\n",
       "      <td>6.689969e+04</td>\n",
       "      <td>27.691416</td>\n",
       "      <td>0.110913</td>\n",
       "      <td>513.267336</td>\n",
       "    </tr>\n",
       "    <tr>\n",
       "      <th>std</th>\n",
       "      <td>6314.643803</td>\n",
       "      <td>3.238828</td>\n",
       "      <td>6.669942</td>\n",
       "      <td>6.399031e+04</td>\n",
       "      <td>6.257452</td>\n",
       "      <td>0.314031</td>\n",
       "      <td>1839.302702</td>\n",
       "    </tr>\n",
       "    <tr>\n",
       "      <th>min</th>\n",
       "      <td>500.000000</td>\n",
       "      <td>5.420000</td>\n",
       "      <td>0.000000</td>\n",
       "      <td>4.000000e+03</td>\n",
       "      <td>20.000000</td>\n",
       "      <td>0.000000</td>\n",
       "      <td>0.000000</td>\n",
       "    </tr>\n",
       "    <tr>\n",
       "      <th>25%</th>\n",
       "      <td>5000.000000</td>\n",
       "      <td>7.900000</td>\n",
       "      <td>2.000000</td>\n",
       "      <td>3.999600e+04</td>\n",
       "      <td>23.000000</td>\n",
       "      <td>0.000000</td>\n",
       "      <td>0.000000</td>\n",
       "    </tr>\n",
       "    <tr>\n",
       "      <th>50%</th>\n",
       "      <td>8000.000000</td>\n",
       "      <td>10.990000</td>\n",
       "      <td>4.000000</td>\n",
       "      <td>5.647200e+04</td>\n",
       "      <td>26.000000</td>\n",
       "      <td>0.000000</td>\n",
       "      <td>0.000000</td>\n",
       "    </tr>\n",
       "    <tr>\n",
       "      <th>75%</th>\n",
       "      <td>12137.500000</td>\n",
       "      <td>13.470000</td>\n",
       "      <td>8.000000</td>\n",
       "      <td>8.000000e+04</td>\n",
       "      <td>30.000000</td>\n",
       "      <td>0.000000</td>\n",
       "      <td>0.000000</td>\n",
       "    </tr>\n",
       "    <tr>\n",
       "      <th>max</th>\n",
       "      <td>35000.000000</td>\n",
       "      <td>23.220000</td>\n",
       "      <td>62.000000</td>\n",
       "      <td>6.000000e+06</td>\n",
       "      <td>144.000000</td>\n",
       "      <td>1.000000</td>\n",
       "      <td>22565.000000</td>\n",
       "    </tr>\n",
       "  </tbody>\n",
       "</table>\n",
       "</div>"
      ],
      "text/plain": [
       "          loan_amnt      int_rate    emp_length    annual_inc           age  \\\n",
       "count  21819.000000  19727.000000  21223.000000  2.181900e+04  21819.000000   \n",
       "mean    9580.417297     11.004751      6.151015  6.689969e+04     27.691416   \n",
       "std     6314.643803      3.238828      6.669942  6.399031e+04      6.257452   \n",
       "min      500.000000      5.420000      0.000000  4.000000e+03     20.000000   \n",
       "25%     5000.000000      7.900000      2.000000  3.999600e+04     23.000000   \n",
       "50%     8000.000000     10.990000      4.000000  5.647200e+04     26.000000   \n",
       "75%    12137.500000     13.470000      8.000000  8.000000e+04     30.000000   \n",
       "max    35000.000000     23.220000     62.000000  6.000000e+06    144.000000   \n",
       "\n",
       "            default  default_amount  \n",
       "count  21819.000000    21819.000000  \n",
       "mean       0.110913      513.267336  \n",
       "std        0.314031     1839.302702  \n",
       "min        0.000000        0.000000  \n",
       "25%        0.000000        0.000000  \n",
       "50%        0.000000        0.000000  \n",
       "75%        0.000000        0.000000  \n",
       "max        1.000000    22565.000000  "
      ]
     },
     "execution_count": 6,
     "metadata": {},
     "output_type": "execute_result"
    }
   ],
   "source": [
    "#View summary of train \n",
    "train.describe()"
   ]
  },
  {
   "cell_type": "markdown",
   "metadata": {},
   "source": [
    "# Data Pre-processing\n",
    "\n",
    "We will do the following two data pre-processing before building our first set of models.\n",
    "\n",
    "1. handle missing values  \n",
    "2. handle categorical variables"
   ]
  },
  {
   "cell_type": "markdown",
   "metadata": {},
   "source": [
    "#### Missing values"
   ]
  },
  {
   "cell_type": "code",
   "execution_count": 7,
   "metadata": {
    "collapsed": false
   },
   "outputs": [
    {
     "data": {
      "text/html": [
       "<div>\n",
       "<table border=\"1\" class=\"dataframe\">\n",
       "  <thead>\n",
       "    <tr style=\"text-align: right;\">\n",
       "      <th></th>\n",
       "      <th>loan_amnt</th>\n",
       "      <th>int_rate</th>\n",
       "      <th>grade</th>\n",
       "      <th>emp_length</th>\n",
       "      <th>home_ownership</th>\n",
       "      <th>annual_inc</th>\n",
       "      <th>age</th>\n",
       "      <th>default</th>\n",
       "      <th>default_amount</th>\n",
       "    </tr>\n",
       "  </thead>\n",
       "  <tbody>\n",
       "    <tr>\n",
       "      <th>0</th>\n",
       "      <td>False</td>\n",
       "      <td>False</td>\n",
       "      <td>False</td>\n",
       "      <td>False</td>\n",
       "      <td>False</td>\n",
       "      <td>False</td>\n",
       "      <td>False</td>\n",
       "      <td>False</td>\n",
       "      <td>False</td>\n",
       "    </tr>\n",
       "    <tr>\n",
       "      <th>1</th>\n",
       "      <td>False</td>\n",
       "      <td>True</td>\n",
       "      <td>False</td>\n",
       "      <td>False</td>\n",
       "      <td>False</td>\n",
       "      <td>False</td>\n",
       "      <td>False</td>\n",
       "      <td>False</td>\n",
       "      <td>False</td>\n",
       "    </tr>\n",
       "    <tr>\n",
       "      <th>2</th>\n",
       "      <td>False</td>\n",
       "      <td>False</td>\n",
       "      <td>False</td>\n",
       "      <td>False</td>\n",
       "      <td>False</td>\n",
       "      <td>False</td>\n",
       "      <td>False</td>\n",
       "      <td>False</td>\n",
       "      <td>False</td>\n",
       "    </tr>\n",
       "    <tr>\n",
       "      <th>3</th>\n",
       "      <td>False</td>\n",
       "      <td>False</td>\n",
       "      <td>False</td>\n",
       "      <td>False</td>\n",
       "      <td>False</td>\n",
       "      <td>False</td>\n",
       "      <td>False</td>\n",
       "      <td>False</td>\n",
       "      <td>False</td>\n",
       "    </tr>\n",
       "    <tr>\n",
       "      <th>4</th>\n",
       "      <td>False</td>\n",
       "      <td>False</td>\n",
       "      <td>False</td>\n",
       "      <td>False</td>\n",
       "      <td>False</td>\n",
       "      <td>False</td>\n",
       "      <td>False</td>\n",
       "      <td>False</td>\n",
       "      <td>False</td>\n",
       "    </tr>\n",
       "  </tbody>\n",
       "</table>\n",
       "</div>"
      ],
      "text/plain": [
       "  loan_amnt int_rate  grade emp_length home_ownership annual_inc    age  \\\n",
       "0     False    False  False      False          False      False  False   \n",
       "1     False     True  False      False          False      False  False   \n",
       "2     False    False  False      False          False      False  False   \n",
       "3     False    False  False      False          False      False  False   \n",
       "4     False    False  False      False          False      False  False   \n",
       "\n",
       "  default default_amount  \n",
       "0   False          False  \n",
       "1   False          False  \n",
       "2   False          False  \n",
       "3   False          False  \n",
       "4   False          False  "
      ]
     },
     "execution_count": 7,
     "metadata": {},
     "output_type": "execute_result"
    }
   ],
   "source": [
    "#Find if train has missing values.\n",
    "# There is a isnull() function\n",
    "train.isnull().head()"
   ]
  },
  {
   "cell_type": "code",
   "execution_count": 8,
   "metadata": {
    "collapsed": false
   },
   "outputs": [
    {
     "data": {
      "text/plain": [
       "loan_amnt         False\n",
       "int_rate           True\n",
       "grade             False\n",
       "emp_length         True\n",
       "home_ownership    False\n",
       "annual_inc        False\n",
       "age               False\n",
       "default           False\n",
       "default_amount    False\n",
       "dtype: bool"
      ]
     },
     "execution_count": 8,
     "metadata": {},
     "output_type": "execute_result"
    }
   ],
   "source": [
    "#The above is kinda hard to comprehend. \n",
    "#It tells if every single element is null or not\n",
    "#What we want first is to find if a column has missing values or not\n",
    "#let's find that first\n",
    "train.isnull().any()"
   ]
  },
  {
   "cell_type": "code",
   "execution_count": 9,
   "metadata": {
    "collapsed": false
   },
   "outputs": [
    {
     "data": {
      "text/plain": [
       "loan_amnt            0\n",
       "int_rate          2092\n",
       "grade                0\n",
       "emp_length         596\n",
       "home_ownership       0\n",
       "annual_inc           0\n",
       "age                  0\n",
       "default              0\n",
       "default_amount       0\n",
       "dtype: int64"
      ]
     },
     "execution_count": 9,
     "metadata": {},
     "output_type": "execute_result"
    }
   ],
   "source": [
    "#One consideration we check here is the number of observations with missing \n",
    "#values for those columns that have missing values\n",
    "#If a column has too many missing values, it might make sense \n",
    "#to drop the column.\n",
    "#let's see how many missing values are present\n",
    "train.isnull().sum()"
   ]
  },
  {
   "cell_type": "code",
   "execution_count": 10,
   "metadata": {
    "collapsed": true
   },
   "outputs": [],
   "source": [
    "#So, we see that two columns have missing values. : int_rate and emp_length\n",
    "#Both the columns are numeric. \n",
    "#Let's replace missing values with the mean of the column"
   ]
  },
  {
   "cell_type": "code",
   "execution_count": 11,
   "metadata": {
    "collapsed": false
   },
   "outputs": [
    {
     "data": {
      "text/plain": [
       "loan_amnt          9580.417297\n",
       "int_rate             11.004751\n",
       "emp_length            6.151015\n",
       "annual_inc        66899.691265\n",
       "age                  27.691416\n",
       "default               0.110913\n",
       "default_amount      513.267336\n",
       "dtype: float64"
      ]
     },
     "execution_count": 11,
     "metadata": {},
     "output_type": "execute_result"
    }
   ],
   "source": [
    "train.mean()"
   ]
  },
  {
   "cell_type": "code",
   "execution_count": 12,
   "metadata": {
    "collapsed": false
   },
   "outputs": [],
   "source": [
    "#there's a fillna function\n",
    "train = train.fillna(train.mean())"
   ]
  },
  {
   "cell_type": "code",
   "execution_count": 13,
   "metadata": {
    "collapsed": false
   },
   "outputs": [
    {
     "data": {
      "text/plain": [
       "loan_amnt         False\n",
       "int_rate          False\n",
       "grade             False\n",
       "emp_length        False\n",
       "home_ownership    False\n",
       "annual_inc        False\n",
       "age               False\n",
       "default           False\n",
       "default_amount    False\n",
       "dtype: bool"
      ]
     },
     "execution_count": 13,
     "metadata": {},
     "output_type": "execute_result"
    }
   ],
   "source": [
    "#Now, let's check if train has missing values or not\n",
    "train.isnull().any()"
   ]
  },
  {
   "cell_type": "markdown",
   "metadata": {},
   "source": [
    "#### Categorical variables"
   ]
  },
  {
   "cell_type": "code",
   "execution_count": 14,
   "metadata": {
    "collapsed": true
   },
   "outputs": [],
   "source": [
    "#We will use sklearn's LabelEncoder function\n",
    "\n",
    "from sklearn.preprocessing import LabelEncoder"
   ]
  },
  {
   "cell_type": "code",
   "execution_count": 15,
   "metadata": {
    "collapsed": true
   },
   "outputs": [],
   "source": [
    "#Replace grade and home_ownership with the labelEncoder"
   ]
  },
  {
   "cell_type": "code",
   "execution_count": 16,
   "metadata": {
    "collapsed": false
   },
   "outputs": [],
   "source": [
    "train[[\"grade\", \"home_ownership\"]] =  train[[\"grade\", \"home_ownership\"]].apply(LabelEncoder().fit_transform)"
   ]
  },
  {
   "cell_type": "code",
   "execution_count": 17,
   "metadata": {
    "collapsed": false
   },
   "outputs": [
    {
     "data": {
      "text/html": [
       "<div>\n",
       "<table border=\"1\" class=\"dataframe\">\n",
       "  <thead>\n",
       "    <tr style=\"text-align: right;\">\n",
       "      <th></th>\n",
       "      <th>loan_amnt</th>\n",
       "      <th>int_rate</th>\n",
       "      <th>grade</th>\n",
       "      <th>emp_length</th>\n",
       "      <th>home_ownership</th>\n",
       "      <th>annual_inc</th>\n",
       "      <th>age</th>\n",
       "      <th>default</th>\n",
       "      <th>default_amount</th>\n",
       "    </tr>\n",
       "  </thead>\n",
       "  <tbody>\n",
       "    <tr>\n",
       "      <th>0</th>\n",
       "      <td>16500</td>\n",
       "      <td>12.180000</td>\n",
       "      <td>1</td>\n",
       "      <td>8.0</td>\n",
       "      <td>2</td>\n",
       "      <td>75000.0</td>\n",
       "      <td>24</td>\n",
       "      <td>0</td>\n",
       "      <td>0</td>\n",
       "    </tr>\n",
       "    <tr>\n",
       "      <th>1</th>\n",
       "      <td>2000</td>\n",
       "      <td>11.004751</td>\n",
       "      <td>0</td>\n",
       "      <td>1.0</td>\n",
       "      <td>3</td>\n",
       "      <td>33000.0</td>\n",
       "      <td>22</td>\n",
       "      <td>0</td>\n",
       "      <td>0</td>\n",
       "    </tr>\n",
       "    <tr>\n",
       "      <th>2</th>\n",
       "      <td>15000</td>\n",
       "      <td>15.990000</td>\n",
       "      <td>3</td>\n",
       "      <td>14.0</td>\n",
       "      <td>0</td>\n",
       "      <td>40000.0</td>\n",
       "      <td>22</td>\n",
       "      <td>1</td>\n",
       "      <td>8792</td>\n",
       "    </tr>\n",
       "    <tr>\n",
       "      <th>3</th>\n",
       "      <td>5000</td>\n",
       "      <td>5.790000</td>\n",
       "      <td>0</td>\n",
       "      <td>9.0</td>\n",
       "      <td>0</td>\n",
       "      <td>50000.0</td>\n",
       "      <td>25</td>\n",
       "      <td>0</td>\n",
       "      <td>0</td>\n",
       "    </tr>\n",
       "    <tr>\n",
       "      <th>4</th>\n",
       "      <td>8700</td>\n",
       "      <td>14.610000</td>\n",
       "      <td>3</td>\n",
       "      <td>4.0</td>\n",
       "      <td>3</td>\n",
       "      <td>28320.0</td>\n",
       "      <td>28</td>\n",
       "      <td>0</td>\n",
       "      <td>0</td>\n",
       "    </tr>\n",
       "  </tbody>\n",
       "</table>\n",
       "</div>"
      ],
      "text/plain": [
       "   loan_amnt   int_rate  grade  emp_length  home_ownership  annual_inc  age  \\\n",
       "0      16500  12.180000      1         8.0               2     75000.0   24   \n",
       "1       2000  11.004751      0         1.0               3     33000.0   22   \n",
       "2      15000  15.990000      3        14.0               0     40000.0   22   \n",
       "3       5000   5.790000      0         9.0               0     50000.0   25   \n",
       "4       8700  14.610000      3         4.0               3     28320.0   28   \n",
       "\n",
       "   default  default_amount  \n",
       "0        0               0  \n",
       "1        0               0  \n",
       "2        1            8792  \n",
       "3        0               0  \n",
       "4        0               0  "
      ]
     },
     "execution_count": 17,
     "metadata": {},
     "output_type": "execute_result"
    }
   ],
   "source": [
    "#Look at train to check if it worked fine\n",
    "train.head()"
   ]
  },
  {
   "cell_type": "code",
   "execution_count": 18,
   "metadata": {
    "collapsed": false
   },
   "outputs": [
    {
     "data": {
      "text/plain": [
       "loan_amnt           int64\n",
       "int_rate          float64\n",
       "grade               int64\n",
       "emp_length        float64\n",
       "home_ownership      int64\n",
       "annual_inc        float64\n",
       "age                 int64\n",
       "default             int64\n",
       "default_amount      int64\n",
       "dtype: object"
      ]
     },
     "execution_count": 18,
     "metadata": {},
     "output_type": "execute_result"
    }
   ],
   "source": [
    "#check at the types\n",
    "train.dtypes"
   ]
  },
  {
   "cell_type": "code",
   "execution_count": 19,
   "metadata": {
    "collapsed": true
   },
   "outputs": [],
   "source": [
    "#We are good to build our first model\n",
    "#But before that, let's do some exploratory data analysis"
   ]
  },
  {
   "cell_type": "code",
   "execution_count": 20,
   "metadata": {
    "collapsed": true
   },
   "outputs": [],
   "source": [
    "import matplotlib.pyplot as plt\n",
    "%matplotlib inline"
   ]
  },
  {
   "cell_type": "code",
   "execution_count": 21,
   "metadata": {
    "collapsed": false
   },
   "outputs": [
    {
     "data": {
      "text/plain": [
       "<matplotlib.axes._subplots.AxesSubplot at 0x7efd57fde5c0>"
      ]
     },
     "execution_count": 21,
     "metadata": {},
     "output_type": "execute_result"
    },
    {
     "data": {
      "image/png": "[encoded data removed]",
      "text/plain": [
       "<matplotlib.figure.Figure at 0x7efd5b5b9d30>"
      ]
     },
     "metadata": {},
     "output_type": "display_data"
    }
   ],
   "source": [
    "#Let's do scatter plot of loan amount, age and default. What do you infer?\n",
    "train.plot.scatter(x=\"loan_amnt\", y=\"age\", c=\"default\", s=25)"
   ]
  },
  {
   "cell_type": "code",
   "execution_count": 22,
   "metadata": {
    "collapsed": false
   },
   "outputs": [
    {
     "data": {
      "text/plain": [
       "<matplotlib.axes._subplots.AxesSubplot at 0x7efd57f66550>"
      ]
     },
     "execution_count": 22,
     "metadata": {},
     "output_type": "execute_result"
    },
    {
     "data": {
      "image/png": "[encoded data removed]",
      "text/plain": [
       "<matplotlib.figure.Figure at 0x7efd57f38438>"
      ]
     },
     "metadata": {},
     "output_type": "display_data"
    }
   ],
   "source": [
    "#How about doing the same for default amount.What do you infer?\n",
    "train.plot.scatter(x=\"loan_amnt\", y=\"age\", s=train[\"default_amount\"]*0.01)"
   ]
  },
  {
   "cell_type": "code",
   "execution_count": 23,
   "metadata": {
    "collapsed": false
   },
   "outputs": [
    {
     "data": {
      "text/plain": [
       "<matplotlib.axes._subplots.AxesSubplot at 0x7efd564d6a20>"
      ]
     },
     "execution_count": 23,
     "metadata": {},
     "output_type": "execute_result"
    },
    {
     "data": {
      "image/png": "[encoded data removed]",
      "text/plain": [
       "<matplotlib.figure.Figure at 0x7efd56467438>"
      ]
     },
     "metadata": {},
     "output_type": "display_data"
    }
   ],
   "source": [
    "#Let's do scatter plot of loan amount, int_rate and default.What do you infer?\n",
    "train.plot.scatter(x=\"loan_amnt\", y=\"int_rate\", c=\"default\", s=25)"
   ]
  },
  {
   "cell_type": "code",
   "execution_count": 24,
   "metadata": {
    "collapsed": false
   },
   "outputs": [
    {
     "data": {
      "text/plain": [
       "<matplotlib.axes._subplots.AxesSubplot at 0x7efd57d73358>"
      ]
     },
     "execution_count": 24,
     "metadata": {},
     "output_type": "execute_result"
    },
    {
     "data": {
      "image/png": "[encoded data removed]",
      "text/plain": [
       "<matplotlib.figure.Figure at 0x7efd563b8400>"
      ]
     },
     "metadata": {},
     "output_type": "display_data"
    }
   ],
   "source": [
    "#Let's do scatter plot of loan amount, home ownership and default.What do you infer?\n",
    "train.plot.scatter(x=\"loan_amnt\", y=\"home_ownership\", c=\"default\", s=25)"
   ]
  },
  {
   "cell_type": "code",
   "execution_count": 25,
   "metadata": {
    "collapsed": false
   },
   "outputs": [
    {
     "data": {
      "text/plain": [
       "<matplotlib.axes._subplots.AxesSubplot at 0x7efd563d2278>"
      ]
     },
     "execution_count": 25,
     "metadata": {},
     "output_type": "execute_result"
    },
    {
     "data": {
      "image/png": "[encoded data removed]",
      "text/plain": [
       "<matplotlib.figure.Figure at 0x7efd894b3a20>"
      ]
     },
     "metadata": {},
     "output_type": "display_data"
    }
   ],
   "source": [
    "#Let's do scatter plot of age, home ownership and default.What do you infer?\n",
    "train.plot.scatter(x=\"age\", y=\"home_ownership\", c=\"default\", s=25)"
   ]
  },
  {
   "cell_type": "code",
   "execution_count": 26,
   "metadata": {
    "collapsed": true
   },
   "outputs": [],
   "source": [
    "#Feature engineering will help. We will cover this later.\n",
    "#For now, let's use the given dataset and create our first set of models"
   ]
  },
  {
   "cell_type": "markdown",
   "metadata": {},
   "source": [
    "# Task 1: `Probability of Default`"
   ]
  },
  {
   "cell_type": "markdown",
   "metadata": {},
   "source": [
    "# First model: Benchmark"
   ]
  },
  {
   "cell_type": "code",
   "execution_count": 27,
   "metadata": {
    "collapsed": false
   },
   "outputs": [
    {
     "data": {
      "text/plain": [
       "0    19399\n",
       "1     2420\n",
       "Name: default, dtype: int64"
      ]
     },
     "execution_count": 27,
     "metadata": {},
     "output_type": "execute_result"
    }
   ],
   "source": [
    "#Analyze the proportion of defaults in the training dataset\n",
    "train.default.value_counts()"
   ]
  },
  {
   "cell_type": "code",
   "execution_count": 28,
   "metadata": {
    "collapsed": false
   },
   "outputs": [
    {
     "name": "stdout",
     "output_type": "stream",
     "text": [
      "Percentage of defaults in the training dataset:\n"
     ]
    },
    {
     "data": {
      "text/plain": [
       "11.091250744763737"
      ]
     },
     "execution_count": 28,
     "metadata": {},
     "output_type": "execute_result"
    }
   ],
   "source": [
    "#Proportion of defaults:\n",
    "print(\"Percentage of defaults in the training dataset:\") \n",
    "train.default.value_counts()[1]/train.shape[0]*100"
   ]
  },
  {
   "cell_type": "code",
   "execution_count": 29,
   "metadata": {
    "collapsed": true
   },
   "outputs": [],
   "source": [
    "#What is the benchmark model? "
   ]
  },
  {
   "cell_type": "markdown",
   "metadata": {},
   "source": [
    "**Predict everything to be NOT DEFAULT**"
   ]
  },
  {
   "cell_type": "code",
   "execution_count": 30,
   "metadata": {
    "collapsed": false
   },
   "outputs": [
    {
     "name": "stdout",
     "output_type": "stream",
     "text": [
      "Benchmark accuracy:\n"
     ]
    },
    {
     "data": {
      "text/plain": [
       "88.908749255236259"
      ]
     },
     "execution_count": 30,
     "metadata": {},
     "output_type": "execute_result"
    }
   ],
   "source": [
    "#What's the accuracy of the benchmark model?\n",
    "print(\"Benchmark accuracy:\")\n",
    "100 - train.default.value_counts()[1]/train.shape[0]*100"
   ]
  },
  {
   "cell_type": "code",
   "execution_count": 31,
   "metadata": {
    "collapsed": true
   },
   "outputs": [],
   "source": [
    "#Let's see if we can build something better than this"
   ]
  },
  {
   "cell_type": "markdown",
   "metadata": {},
   "source": [
    "# Second Model: Linear Regression (OLS)"
   ]
  },
  {
   "cell_type": "code",
   "execution_count": 32,
   "metadata": {
    "collapsed": true
   },
   "outputs": [],
   "source": [
    "from sklearn.linear_model import LinearRegression"
   ]
  },
  {
   "cell_type": "code",
   "execution_count": 33,
   "metadata": {
    "collapsed": true
   },
   "outputs": [],
   "source": [
    "#instantiate the model\n",
    "model2 = LinearRegression()"
   ]
  },
  {
   "cell_type": "code",
   "execution_count": 34,
   "metadata": {
    "collapsed": false
   },
   "outputs": [
    {
     "data": {
      "text/plain": [
       "LinearRegression(copy_X=True, fit_intercept=True, n_jobs=1, normalize=False)"
      ]
     },
     "execution_count": 34,
     "metadata": {},
     "output_type": "execute_result"
    }
   ],
   "source": [
    "#fit the model\n",
    "model2.fit(train.iloc[:,:7], train.iloc[:,7])"
   ]
  },
  {
   "cell_type": "code",
   "execution_count": 35,
   "metadata": {
    "collapsed": false
   },
   "outputs": [
    {
     "data": {
      "text/plain": [
       "array([ -1.16976939e-06,   5.87533528e-03,   2.76326162e-02,\n",
       "         8.82398598e-04,   2.82443622e-03,  -1.94626419e-07,\n",
       "        -6.54889816e-04])"
      ]
     },
     "execution_count": 35,
     "metadata": {},
     "output_type": "execute_result"
    }
   ],
   "source": [
    "#View parameters of the model\n",
    "model2.coef_"
   ]
  },
  {
   "cell_type": "code",
   "execution_count": 36,
   "metadata": {
    "collapsed": false
   },
   "outputs": [
    {
     "data": {
      "text/plain": [
       "0.044888977163242028"
      ]
     },
     "execution_count": 36,
     "metadata": {},
     "output_type": "execute_result"
    }
   ],
   "source": [
    "model2.intercept_"
   ]
  },
  {
   "cell_type": "markdown",
   "metadata": {},
   "source": [
    "**Exercise**"
   ]
  },
  {
   "cell_type": "code",
   "execution_count": 37,
   "metadata": {
    "collapsed": true
   },
   "outputs": [],
   "source": [
    "#Can you now tell the equation of the model?\n"
   ]
  },
  {
   "cell_type": "code",
   "execution_count": 38,
   "metadata": {
    "collapsed": true
   },
   "outputs": [],
   "source": [
    "#The right thing is to score it on the test dataset and determine the accuracy.\n",
    "#For now, let's cheat a bit and score on train dataset and evaluate accuracy\n",
    "#We will verify on test once we get a handle on model training"
   ]
  },
  {
   "cell_type": "code",
   "execution_count": 60,
   "metadata": {
    "collapsed": false
   },
   "outputs": [],
   "source": [
    "#score on train\n",
    "model2_prediction = model2.predict(train.iloc[:,:7])"
   ]
  },
  {
   "cell_type": "code",
   "execution_count": 61,
   "metadata": {
    "collapsed": false
   },
   "outputs": [
    {
     "data": {
      "text/plain": [
       "(-1.0823754813358164, 0.32708746495243668)"
      ]
     },
     "execution_count": 61,
     "metadata": {},
     "output_type": "execute_result"
    }
   ],
   "source": [
    "np.min(model2_prediction), np.max(model2_prediction)"
   ]
  },
  {
   "cell_type": "code",
   "execution_count": 66,
   "metadata": {
    "collapsed": true
   },
   "outputs": [],
   "source": [
    "#There are two challenges with linear regression\n",
    "#The values are not bounded between 0 and 1. \n",
    "#Second is that - the values we get aren't probability. \n",
    "#So, one way to score it is to set everything above a particular threshold to be 1\n",
    "#plot to observe the threshold"
   ]
  },
  {
   "cell_type": "code",
   "execution_count": 67,
   "metadata": {
    "collapsed": false
   },
   "outputs": [
    {
     "data": {
      "image/png": "[encoded data removed]",
      "text/plain": [
       "<matplotlib.figure.Figure at 0x7efd3a58dbe0>"
      ]
     },
     "metadata": {},
     "output_type": "display_data"
    }
   ],
   "source": [
    "plt.hist(model2_prediction)\n",
    "plt.show()"
   ]
  },
  {
   "cell_type": "code",
   "execution_count": 68,
   "metadata": {
    "collapsed": false
   },
   "outputs": [],
   "source": [
    "#Let's take everything above 0.2 to be 1(default) and rest as 0 (not default)"
   ]
  },
  {
   "cell_type": "code",
   "execution_count": 69,
   "metadata": {
    "collapsed": false
   },
   "outputs": [],
   "source": [
    "#use 0.2 threshold to set prediction to 0 or 1\n",
    "model2_prediction[model2_prediction>0.2] = 1\n",
    "model2_prediction[model2_prediction <= 0.2] = 0"
   ]
  },
  {
   "cell_type": "code",
   "execution_count": 70,
   "metadata": {
    "collapsed": true
   },
   "outputs": [],
   "source": [
    "#What's the accuracy of the model?\n",
    "#We will build the accuracy from scratch here. \n",
    "#Going forward we will use sklearn's in-built method"
   ]
  },
  {
   "cell_type": "code",
   "execution_count": 71,
   "metadata": {
    "collapsed": false
   },
   "outputs": [],
   "source": [
    "#accuracy of the model\n",
    "predictions = pd.concat([pd.Series(model2_prediction), train.iloc[:,7]], axis=1)"
   ]
  },
  {
   "cell_type": "code",
   "execution_count": 72,
   "metadata": {
    "collapsed": false
   },
   "outputs": [],
   "source": [
    "predictions.columns = [\"predicted\", \"actual\"]"
   ]
  },
  {
   "cell_type": "code",
   "execution_count": 73,
   "metadata": {
    "collapsed": false
   },
   "outputs": [
    {
     "data": {
      "text/html": [
       "<div>\n",
       "<table border=\"1\" class=\"dataframe\">\n",
       "  <thead>\n",
       "    <tr style=\"text-align: right;\">\n",
       "      <th></th>\n",
       "      <th>predicted</th>\n",
       "      <th>actual</th>\n",
       "    </tr>\n",
       "  </thead>\n",
       "  <tbody>\n",
       "    <tr>\n",
       "      <th>0</th>\n",
       "      <td>0.0</td>\n",
       "      <td>0</td>\n",
       "    </tr>\n",
       "    <tr>\n",
       "      <th>1</th>\n",
       "      <td>0.0</td>\n",
       "      <td>0</td>\n",
       "    </tr>\n",
       "    <tr>\n",
       "      <th>2</th>\n",
       "      <td>0.0</td>\n",
       "      <td>1</td>\n",
       "    </tr>\n",
       "    <tr>\n",
       "      <th>3</th>\n",
       "      <td>0.0</td>\n",
       "      <td>0</td>\n",
       "    </tr>\n",
       "    <tr>\n",
       "      <th>4</th>\n",
       "      <td>0.0</td>\n",
       "      <td>0</td>\n",
       "    </tr>\n",
       "  </tbody>\n",
       "</table>\n",
       "</div>"
      ],
      "text/plain": [
       "   predicted  actual\n",
       "0        0.0       0\n",
       "1        0.0       0\n",
       "2        0.0       1\n",
       "3        0.0       0\n",
       "4        0.0       0"
      ]
     },
     "execution_count": 73,
     "metadata": {},
     "output_type": "execute_result"
    }
   ],
   "source": [
    "predictions.head()"
   ]
  },
  {
   "cell_type": "code",
   "execution_count": 74,
   "metadata": {
    "collapsed": false
   },
   "outputs": [
    {
     "data": {
      "text/plain": [
       "0         True\n",
       "1         True\n",
       "2        False\n",
       "3         True\n",
       "4         True\n",
       "5         True\n",
       "6         True\n",
       "7         True\n",
       "8         True\n",
       "9         True\n",
       "10        True\n",
       "11        True\n",
       "12        True\n",
       "13        True\n",
       "14        True\n",
       "15       False\n",
       "16       False\n",
       "17        True\n",
       "18        True\n",
       "19        True\n",
       "20       False\n",
       "21        True\n",
       "22        True\n",
       "23        True\n",
       "24        True\n",
       "25       False\n",
       "26       False\n",
       "27        True\n",
       "28        True\n",
       "29       False\n",
       "         ...  \n",
       "21789     True\n",
       "21790     True\n",
       "21791     True\n",
       "21792     True\n",
       "21793     True\n",
       "21794    False\n",
       "21795     True\n",
       "21796     True\n",
       "21797     True\n",
       "21798     True\n",
       "21799     True\n",
       "21800     True\n",
       "21801     True\n",
       "21802     True\n",
       "21803    False\n",
       "21804     True\n",
       "21805     True\n",
       "21806     True\n",
       "21807     True\n",
       "21808     True\n",
       "21809     True\n",
       "21810     True\n",
       "21811     True\n",
       "21812     True\n",
       "21813     True\n",
       "21814     True\n",
       "21815     True\n",
       "21816     True\n",
       "21817     True\n",
       "21818     True\n",
       "dtype: bool"
      ]
     },
     "execution_count": 74,
     "metadata": {},
     "output_type": "execute_result"
    }
   ],
   "source": [
    "#Find if prediction and actual are the same\n",
    "predictions.predicted == predictions.actual"
   ]
  },
  {
   "cell_type": "code",
   "execution_count": 75,
   "metadata": {
    "collapsed": false
   },
   "outputs": [
    {
     "data": {
      "text/plain": [
       "18800"
      ]
     },
     "execution_count": 75,
     "metadata": {},
     "output_type": "execute_result"
    }
   ],
   "source": [
    "#Find the count of occurences where prediction and actual are same\n",
    "np.sum(predictions.predicted == predictions.actual)"
   ]
  },
  {
   "cell_type": "code",
   "execution_count": 76,
   "metadata": {
    "collapsed": false
   },
   "outputs": [
    {
     "name": "stdout",
     "output_type": "stream",
     "text": [
      "Accuracy from Linear Regression Model:\n"
     ]
    },
    {
     "data": {
      "text/plain": [
       "86.163435537834005"
      ]
     },
     "execution_count": 76,
     "metadata": {},
     "output_type": "execute_result"
    }
   ],
   "source": [
    "#Divide the above metric by the total rows\n",
    "print(\"Accuracy from Linear Regression Model:\")\n",
    "np.sum(predictions.predicted == predictions.actual)/predictions.shape[0]*100"
   ]
  },
  {
   "cell_type": "code",
   "execution_count": 77,
   "metadata": {
    "collapsed": true
   },
   "outputs": [],
   "source": [
    "#Doesn't look like it was any better than the benchmark !"
   ]
  },
  {
   "cell_type": "markdown",
   "metadata": {},
   "source": [
    "# Model 3: Linear Regression (some refinement)\n",
    "\n",
    "let's now play with some parameters on the linear regression model and check if model shows any improvement"
   ]
  },
  {
   "cell_type": "code",
   "execution_count": 78,
   "metadata": {
    "collapsed": true
   },
   "outputs": [],
   "source": [
    "# One obvious thing to do is the normalize the columns\n",
    "# Discuss why !"
   ]
  },
  {
   "cell_type": "code",
   "execution_count": 79,
   "metadata": {
    "collapsed": true
   },
   "outputs": [],
   "source": [
    "model3 = LinearRegression(normalize=True)"
   ]
  },
  {
   "cell_type": "code",
   "execution_count": 80,
   "metadata": {
    "collapsed": false
   },
   "outputs": [
    {
     "data": {
      "text/plain": [
       "LinearRegression(copy_X=True, fit_intercept=True, n_jobs=1, normalize=True)"
      ]
     },
     "execution_count": 80,
     "metadata": {},
     "output_type": "execute_result"
    }
   ],
   "source": [
    "model3.fit(train.iloc[:,:7], train.iloc[:,7])"
   ]
  },
  {
   "cell_type": "code",
   "execution_count": 81,
   "metadata": {
    "collapsed": true
   },
   "outputs": [],
   "source": [
    "model3_prediction = model3.predict(train.iloc[:,:7])"
   ]
  },
  {
   "cell_type": "code",
   "execution_count": 82,
   "metadata": {
    "collapsed": false
   },
   "outputs": [],
   "source": [
    "#For predicted, set everything above 0.5 to 1 and rest to 0\n",
    "model3_prediction[model3_prediction>0.2] = 1\n",
    "model3_prediction[model3_prediction<=0.2] = 0"
   ]
  },
  {
   "cell_type": "code",
   "execution_count": 83,
   "metadata": {
    "collapsed": false
   },
   "outputs": [],
   "source": [
    "predictions = pd.DataFrame({\"predicted\":model3_prediction, \n",
    "                            \"actual\":train.iloc[:,7]})"
   ]
  },
  {
   "cell_type": "code",
   "execution_count": 84,
   "metadata": {
    "collapsed": false
   },
   "outputs": [
    {
     "data": {
      "text/html": [
       "<div>\n",
       "<table border=\"1\" class=\"dataframe\">\n",
       "  <thead>\n",
       "    <tr style=\"text-align: right;\">\n",
       "      <th></th>\n",
       "      <th>actual</th>\n",
       "      <th>predicted</th>\n",
       "    </tr>\n",
       "  </thead>\n",
       "  <tbody>\n",
       "    <tr>\n",
       "      <th>0</th>\n",
       "      <td>0</td>\n",
       "      <td>0.0</td>\n",
       "    </tr>\n",
       "    <tr>\n",
       "      <th>1</th>\n",
       "      <td>0</td>\n",
       "      <td>0.0</td>\n",
       "    </tr>\n",
       "    <tr>\n",
       "      <th>2</th>\n",
       "      <td>1</td>\n",
       "      <td>0.0</td>\n",
       "    </tr>\n",
       "    <tr>\n",
       "      <th>3</th>\n",
       "      <td>0</td>\n",
       "      <td>0.0</td>\n",
       "    </tr>\n",
       "    <tr>\n",
       "      <th>4</th>\n",
       "      <td>0</td>\n",
       "      <td>0.0</td>\n",
       "    </tr>\n",
       "  </tbody>\n",
       "</table>\n",
       "</div>"
      ],
      "text/plain": [
       "   actual  predicted\n",
       "0       0        0.0\n",
       "1       0        0.0\n",
       "2       1        0.0\n",
       "3       0        0.0\n",
       "4       0        0.0"
      ]
     },
     "execution_count": 84,
     "metadata": {},
     "output_type": "execute_result"
    }
   ],
   "source": [
    "predictions.head()"
   ]
  },
  {
   "cell_type": "code",
   "execution_count": 85,
   "metadata": {
    "collapsed": true
   },
   "outputs": [],
   "source": [
    "#Let's use accuracy_score from sklearn.metrics\n",
    "from sklearn.metrics import accuracy_score"
   ]
  },
  {
   "cell_type": "code",
   "execution_count": 86,
   "metadata": {
    "collapsed": false
   },
   "outputs": [
    {
     "data": {
      "text/plain": [
       "0.86163435537833999"
      ]
     },
     "execution_count": 86,
     "metadata": {},
     "output_type": "execute_result"
    }
   ],
   "source": [
    "accuracy_score(predictions.actual, predictions.predicted)"
   ]
  },
  {
   "cell_type": "code",
   "execution_count": null,
   "metadata": {
    "collapsed": true
   },
   "outputs": [],
   "source": [
    "#Again - no improvements over the benchmark\n"
   ]
  },
  {
   "cell_type": "code",
   "execution_count": 87,
   "metadata": {
    "collapsed": true
   },
   "outputs": [],
   "source": [
    "#One way to improve would be to check what the threshold could be?\n",
    "#But that's on train (remember: that would be cheating!).\n",
    "#May not generalize to new (unseen) data.\n",
    "#While the model is simple, it has its disadvantages"
   ]
  },
  {
   "cell_type": "code",
   "execution_count": 88,
   "metadata": {
    "collapsed": true
   },
   "outputs": [],
   "source": [
    "#Let's now try logistic regression"
   ]
  },
  {
   "cell_type": "markdown",
   "metadata": {},
   "source": [
    "# Model 4: Logistic Regresion (Default:L2)"
   ]
  },
  {
   "cell_type": "code",
   "execution_count": 89,
   "metadata": {
    "collapsed": true
   },
   "outputs": [],
   "source": [
    "from sklearn.linear_model import LogisticRegression"
   ]
  },
  {
   "cell_type": "code",
   "execution_count": 90,
   "metadata": {
    "collapsed": true
   },
   "outputs": [],
   "source": [
    "model4 = LogisticRegression()"
   ]
  },
  {
   "cell_type": "code",
   "execution_count": 91,
   "metadata": {
    "collapsed": false
   },
   "outputs": [
    {
     "data": {
      "text/plain": [
       "LogisticRegression(C=1.0, class_weight=None, dual=False, fit_intercept=True,\n",
       "          intercept_scaling=1, max_iter=100, multi_class='ovr', n_jobs=1,\n",
       "          penalty='l2', random_state=None, solver='liblinear', tol=0.0001,\n",
       "          verbose=0, warm_start=False)"
      ]
     },
     "execution_count": 91,
     "metadata": {},
     "output_type": "execute_result"
    }
   ],
   "source": [
    "model4.fit(train.iloc[:,:7], train.iloc[:,7])"
   ]
  },
  {
   "cell_type": "code",
   "execution_count": 92,
   "metadata": {
    "collapsed": true
   },
   "outputs": [],
   "source": [
    "#Predict on train\n",
    "model4_prediction = model4.predict(train.iloc[:,:7]) "
   ]
  },
  {
   "cell_type": "code",
   "execution_count": 93,
   "metadata": {
    "collapsed": true
   },
   "outputs": [],
   "source": [
    "#Do we need to do threshold here? Discuss/prove why we need or why we don't need"
   ]
  },
  {
   "cell_type": "code",
   "execution_count": null,
   "metadata": {
    "collapsed": true
   },
   "outputs": [],
   "source": []
  },
  {
   "cell_type": "code",
   "execution_count": 94,
   "metadata": {
    "collapsed": true
   },
   "outputs": [],
   "source": [
    "predictions = pd.DataFrame({\"actual\":train.iloc[:,7],\n",
    "                           \"predicted\":model4_prediction})"
   ]
  },
  {
   "cell_type": "code",
   "execution_count": 95,
   "metadata": {
    "collapsed": false
   },
   "outputs": [
    {
     "data": {
      "text/html": [
       "<div>\n",
       "<table border=\"1\" class=\"dataframe\">\n",
       "  <thead>\n",
       "    <tr style=\"text-align: right;\">\n",
       "      <th></th>\n",
       "      <th>actual</th>\n",
       "      <th>predicted</th>\n",
       "    </tr>\n",
       "  </thead>\n",
       "  <tbody>\n",
       "    <tr>\n",
       "      <th>0</th>\n",
       "      <td>0</td>\n",
       "      <td>0</td>\n",
       "    </tr>\n",
       "    <tr>\n",
       "      <th>1</th>\n",
       "      <td>0</td>\n",
       "      <td>0</td>\n",
       "    </tr>\n",
       "    <tr>\n",
       "      <th>2</th>\n",
       "      <td>1</td>\n",
       "      <td>0</td>\n",
       "    </tr>\n",
       "    <tr>\n",
       "      <th>3</th>\n",
       "      <td>0</td>\n",
       "      <td>0</td>\n",
       "    </tr>\n",
       "    <tr>\n",
       "      <th>4</th>\n",
       "      <td>0</td>\n",
       "      <td>0</td>\n",
       "    </tr>\n",
       "  </tbody>\n",
       "</table>\n",
       "</div>"
      ],
      "text/plain": [
       "   actual  predicted\n",
       "0       0          0\n",
       "1       0          0\n",
       "2       1          0\n",
       "3       0          0\n",
       "4       0          0"
      ]
     },
     "execution_count": 95,
     "metadata": {},
     "output_type": "execute_result"
    }
   ],
   "source": [
    "predictions.head()"
   ]
  },
  {
   "cell_type": "code",
   "execution_count": 96,
   "metadata": {
    "collapsed": false
   },
   "outputs": [
    {
     "data": {
      "text/plain": [
       "0.88908749255236263"
      ]
     },
     "execution_count": 96,
     "metadata": {},
     "output_type": "execute_result"
    }
   ],
   "source": [
    "accuracy_score(predictions.actual, predictions.predicted)"
   ]
  },
  {
   "cell_type": "code",
   "execution_count": 97,
   "metadata": {
    "collapsed": true
   },
   "outputs": [],
   "source": [
    "#Still no improvement !"
   ]
  },
  {
   "cell_type": "markdown",
   "metadata": {},
   "source": [
    "#  Model 5: Logistic Regression (L1)"
   ]
  },
  {
   "cell_type": "code",
   "execution_count": 98,
   "metadata": {
    "collapsed": true
   },
   "outputs": [],
   "source": [
    "model5 = LogisticRegression(penalty=\"l1\")"
   ]
  },
  {
   "cell_type": "code",
   "execution_count": 99,
   "metadata": {
    "collapsed": false
   },
   "outputs": [
    {
     "data": {
      "text/plain": [
       "LogisticRegression(C=1.0, class_weight=None, dual=False, fit_intercept=True,\n",
       "          intercept_scaling=1, max_iter=100, multi_class='ovr', n_jobs=1,\n",
       "          penalty='l1', random_state=None, solver='liblinear', tol=0.0001,\n",
       "          verbose=0, warm_start=False)"
      ]
     },
     "execution_count": 99,
     "metadata": {},
     "output_type": "execute_result"
    }
   ],
   "source": [
    "model5.fit(train.iloc[:,:7], train.iloc[:,7])"
   ]
  },
  {
   "cell_type": "code",
   "execution_count": 100,
   "metadata": {
    "collapsed": true
   },
   "outputs": [],
   "source": [
    "#predict on train\n",
    "model5_prediction = model5.predict(train.iloc[:,:7])"
   ]
  },
  {
   "cell_type": "code",
   "execution_count": 101,
   "metadata": {
    "collapsed": false
   },
   "outputs": [],
   "source": [
    "predictions = pd.DataFrame({\"actual\":train.iloc[:,7],\n",
    "                           \"predicted\":model5_prediction})"
   ]
  },
  {
   "cell_type": "code",
   "execution_count": 102,
   "metadata": {
    "collapsed": false
   },
   "outputs": [
    {
     "data": {
      "text/html": [
       "<div>\n",
       "<table border=\"1\" class=\"dataframe\">\n",
       "  <thead>\n",
       "    <tr style=\"text-align: right;\">\n",
       "      <th></th>\n",
       "      <th>actual</th>\n",
       "      <th>predicted</th>\n",
       "    </tr>\n",
       "  </thead>\n",
       "  <tbody>\n",
       "    <tr>\n",
       "      <th>0</th>\n",
       "      <td>0</td>\n",
       "      <td>0</td>\n",
       "    </tr>\n",
       "    <tr>\n",
       "      <th>1</th>\n",
       "      <td>0</td>\n",
       "      <td>0</td>\n",
       "    </tr>\n",
       "    <tr>\n",
       "      <th>2</th>\n",
       "      <td>1</td>\n",
       "      <td>0</td>\n",
       "    </tr>\n",
       "    <tr>\n",
       "      <th>3</th>\n",
       "      <td>0</td>\n",
       "      <td>0</td>\n",
       "    </tr>\n",
       "    <tr>\n",
       "      <th>4</th>\n",
       "      <td>0</td>\n",
       "      <td>0</td>\n",
       "    </tr>\n",
       "  </tbody>\n",
       "</table>\n",
       "</div>"
      ],
      "text/plain": [
       "   actual  predicted\n",
       "0       0          0\n",
       "1       0          0\n",
       "2       1          0\n",
       "3       0          0\n",
       "4       0          0"
      ]
     },
     "execution_count": 102,
     "metadata": {},
     "output_type": "execute_result"
    }
   ],
   "source": [
    "predictions.head()"
   ]
  },
  {
   "cell_type": "code",
   "execution_count": 103,
   "metadata": {
    "collapsed": false
   },
   "outputs": [
    {
     "data": {
      "text/plain": [
       "0.88908749255236263"
      ]
     },
     "execution_count": 103,
     "metadata": {},
     "output_type": "execute_result"
    }
   ],
   "source": [
    "accuracy_score(predictions.actual, predictions.predicted)"
   ]
  },
  {
   "cell_type": "markdown",
   "metadata": {},
   "source": [
    "# Other accuracy metrics\n",
    "\n",
    "So far, we have seen accuracy score. Now, let's check for other metrics\n",
    "\n",
    "- auc\n",
    "- precision\n",
    "- recall\n",
    "- F-score"
   ]
  },
  {
   "cell_type": "code",
   "execution_count": 104,
   "metadata": {
    "collapsed": true
   },
   "outputs": [],
   "source": [
    "from sklearn.metrics import roc_auc_score, precision_score, recall_score, f1_score"
   ]
  },
  {
   "cell_type": "code",
   "execution_count": 108,
   "metadata": {
    "collapsed": false
   },
   "outputs": [
    {
     "data": {
      "text/plain": [
       "0    21819\n",
       "Name: predicted, dtype: int64"
      ]
     },
     "execution_count": 108,
     "metadata": {},
     "output_type": "execute_result"
    }
   ],
   "source": [
    "predictions.predicted.value_counts()"
   ]
  },
  {
   "cell_type": "code",
   "execution_count": null,
   "metadata": {
    "collapsed": false
   },
   "outputs": [],
   "source": [
    "#This won't work!\n",
    "precision_score(predictions.actual, predictions.predicted)"
   ]
  },
  {
   "cell_type": "code",
   "execution_count": 109,
   "metadata": {
    "collapsed": false
   },
   "outputs": [
    {
     "data": {
      "text/plain": [
       "0.0"
      ]
     },
     "execution_count": 109,
     "metadata": {},
     "output_type": "execute_result"
    }
   ],
   "source": [
    "recall_score(predictions.actual, predictions.predicted)"
   ]
  },
  {
   "cell_type": "code",
   "execution_count": 111,
   "metadata": {
    "collapsed": false
   },
   "outputs": [],
   "source": [
    "#this will fail too!\n",
    "f1_score(predictions.actual, predictions.predicted)"
   ]
  },
  {
   "cell_type": "code",
   "execution_count": 112,
   "metadata": {
    "collapsed": true
   },
   "outputs": [],
   "source": [
    "#To compute auc, we need probability\n",
    "model5_prob_prediction = model5.predict_proba(train.iloc[:,:7])"
   ]
  },
  {
   "cell_type": "code",
   "execution_count": 113,
   "metadata": {
    "collapsed": true
   },
   "outputs": [],
   "source": [
    "predictions = pd.DataFrame({\"actual\":train.iloc[:,7],\n",
    "                           \"predicted\":model5_prob_prediction[:,1]})"
   ]
  },
  {
   "cell_type": "code",
   "execution_count": 114,
   "metadata": {
    "collapsed": false
   },
   "outputs": [
    {
     "data": {
      "text/plain": [
       "0.65666978659119768"
      ]
     },
     "execution_count": 114,
     "metadata": {},
     "output_type": "execute_result"
    }
   ],
   "source": [
    "roc_auc_score(predictions.actual, predictions.predicted)"
   ]
  },
  {
   "cell_type": "markdown",
   "metadata": {},
   "source": [
    "# Model 6: Random Forest"
   ]
  },
  {
   "cell_type": "code",
   "execution_count": 115,
   "metadata": {
    "collapsed": true
   },
   "outputs": [],
   "source": [
    "from sklearn.ensemble import RandomForestClassifier"
   ]
  },
  {
   "cell_type": "code",
   "execution_count": 116,
   "metadata": {
    "collapsed": true
   },
   "outputs": [],
   "source": [
    "model6 = RandomForestClassifier(400, max_depth=4, oob_score=True)"
   ]
  },
  {
   "cell_type": "code",
   "execution_count": 117,
   "metadata": {
    "collapsed": false
   },
   "outputs": [
    {
     "data": {
      "text/plain": [
       "RandomForestClassifier(bootstrap=True, class_weight=None, criterion='gini',\n",
       "            max_depth=4, max_features='auto', max_leaf_nodes=None,\n",
       "            min_impurity_split=1e-07, min_samples_leaf=1,\n",
       "            min_samples_split=2, min_weight_fraction_leaf=0.0,\n",
       "            n_estimators=400, n_jobs=1, oob_score=True, random_state=None,\n",
       "            verbose=0, warm_start=False)"
      ]
     },
     "execution_count": 117,
     "metadata": {},
     "output_type": "execute_result"
    }
   ],
   "source": [
    "model6.fit(train.iloc[:,:7], train.iloc[:,7])"
   ]
  },
  {
   "cell_type": "code",
   "execution_count": 118,
   "metadata": {
    "collapsed": false
   },
   "outputs": [
    {
     "data": {
      "text/plain": [
       "0.88908749255236263"
      ]
     },
     "execution_count": 118,
     "metadata": {},
     "output_type": "execute_result"
    }
   ],
   "source": [
    "model6.oob_score_"
   ]
  },
  {
   "cell_type": "code",
   "execution_count": 119,
   "metadata": {
    "collapsed": true
   },
   "outputs": [],
   "source": [
    "model6_prediction = model6.predict(train.iloc[:,:7])"
   ]
  },
  {
   "cell_type": "code",
   "execution_count": 120,
   "metadata": {
    "collapsed": false
   },
   "outputs": [],
   "source": [
    "predictions = pd.DataFrame({\"actual\":train.iloc[:,7],\n",
    "                           \"predicted\":model6_prediction})"
   ]
  },
  {
   "cell_type": "code",
   "execution_count": 121,
   "metadata": {
    "collapsed": false
   },
   "outputs": [
    {
     "data": {
      "text/plain": [
       "0.88908749255236263"
      ]
     },
     "execution_count": 121,
     "metadata": {},
     "output_type": "execute_result"
    }
   ],
   "source": [
    "accuracy_score(predictions.actual, predictions.predicted)"
   ]
  },
  {
   "cell_type": "markdown",
   "metadata": {},
   "source": [
    "# Model 7: Gradient Boosting Classifier"
   ]
  },
  {
   "cell_type": "code",
   "execution_count": 122,
   "metadata": {
    "collapsed": true
   },
   "outputs": [],
   "source": [
    "from sklearn.ensemble import GradientBoostingClassifier"
   ]
  },
  {
   "cell_type": "code",
   "execution_count": 123,
   "metadata": {
    "collapsed": true
   },
   "outputs": [],
   "source": [
    "model7 = GradientBoostingClassifier(n_estimators=400, \n",
    "                                    subsample=0.7,\n",
    "                                    max_depth=4)"
   ]
  },
  {
   "cell_type": "code",
   "execution_count": 124,
   "metadata": {
    "collapsed": false
   },
   "outputs": [
    {
     "data": {
      "text/plain": [
       "GradientBoostingClassifier(criterion='friedman_mse', init=None,\n",
       "              learning_rate=0.1, loss='deviance', max_depth=4,\n",
       "              max_features=None, max_leaf_nodes=None,\n",
       "              min_impurity_split=1e-07, min_samples_leaf=1,\n",
       "              min_samples_split=2, min_weight_fraction_leaf=0.0,\n",
       "              n_estimators=400, presort='auto', random_state=None,\n",
       "              subsample=0.7, verbose=0, warm_start=False)"
      ]
     },
     "execution_count": 124,
     "metadata": {},
     "output_type": "execute_result"
    }
   ],
   "source": [
    "model7.fit(train.iloc[:,:7], train.iloc[:,7])"
   ]
  },
  {
   "cell_type": "code",
   "execution_count": 125,
   "metadata": {
    "collapsed": false
   },
   "outputs": [],
   "source": [
    "model7_prediction = model7.predict(train.iloc[:,:7])"
   ]
  },
  {
   "cell_type": "code",
   "execution_count": 126,
   "metadata": {
    "collapsed": false
   },
   "outputs": [],
   "source": [
    "predictions = pd.DataFrame({\"actual\":train.iloc[:,7],\n",
    "                           \"predicted\":model7_prediction})"
   ]
  },
  {
   "cell_type": "code",
   "execution_count": 127,
   "metadata": {
    "collapsed": false
   },
   "outputs": [
    {
     "data": {
      "text/plain": [
       "0.90214950272698102"
      ]
     },
     "execution_count": 127,
     "metadata": {},
     "output_type": "execute_result"
    }
   ],
   "source": [
    "accuracy_score(predictions.actual, predictions.predicted)"
   ]
  },
  {
   "cell_type": "markdown",
   "metadata": {
    "collapsed": true
   },
   "source": [
    "# Accuracy on test dataset\n",
    "\n",
    "Let's now score the test dataset on all the models and check which model is good.\n",
    "\n",
    "Let's check two metrics: accuracy_score and auc"
   ]
  },
  {
   "cell_type": "code",
   "execution_count": 128,
   "metadata": {
    "collapsed": true
   },
   "outputs": [],
   "source": [
    "X_test = pd.read_csv(\"data/testFeatures_creditRisk.csv\")\n",
    "y_test = pd.read_csv(\"data/testLabels_creditRisk.csv\")"
   ]
  },
  {
   "cell_type": "code",
   "execution_count": 132,
   "metadata": {
    "collapsed": false
   },
   "outputs": [
    {
     "data": {
      "text/html": [
       "<div>\n",
       "<table border=\"1\" class=\"dataframe\">\n",
       "  <thead>\n",
       "    <tr style=\"text-align: right;\">\n",
       "      <th></th>\n",
       "      <th>loan_amnt</th>\n",
       "      <th>int_rate</th>\n",
       "      <th>grade</th>\n",
       "      <th>emp_length</th>\n",
       "      <th>home_ownership</th>\n",
       "      <th>annual_inc</th>\n",
       "      <th>age</th>\n",
       "    </tr>\n",
       "  </thead>\n",
       "  <tbody>\n",
       "    <tr>\n",
       "      <th>0</th>\n",
       "      <td>5275</td>\n",
       "      <td>12.53</td>\n",
       "      <td>C</td>\n",
       "      <td>0.0</td>\n",
       "      <td>RENT</td>\n",
       "      <td>50000.0</td>\n",
       "      <td>31</td>\n",
       "    </tr>\n",
       "    <tr>\n",
       "      <th>1</th>\n",
       "      <td>25000</td>\n",
       "      <td>11.49</td>\n",
       "      <td>B</td>\n",
       "      <td>8.0</td>\n",
       "      <td>MORTGAGE</td>\n",
       "      <td>51000.0</td>\n",
       "      <td>29</td>\n",
       "    </tr>\n",
       "    <tr>\n",
       "      <th>2</th>\n",
       "      <td>10000</td>\n",
       "      <td>8.63</td>\n",
       "      <td>A</td>\n",
       "      <td>2.0</td>\n",
       "      <td>RENT</td>\n",
       "      <td>30000.0</td>\n",
       "      <td>31</td>\n",
       "    </tr>\n",
       "    <tr>\n",
       "      <th>3</th>\n",
       "      <td>10000</td>\n",
       "      <td>10.95</td>\n",
       "      <td>B</td>\n",
       "      <td>0.0</td>\n",
       "      <td>RENT</td>\n",
       "      <td>50000.0</td>\n",
       "      <td>26</td>\n",
       "    </tr>\n",
       "    <tr>\n",
       "      <th>4</th>\n",
       "      <td>3000</td>\n",
       "      <td>11.83</td>\n",
       "      <td>B</td>\n",
       "      <td>2.0</td>\n",
       "      <td>RENT</td>\n",
       "      <td>72000.0</td>\n",
       "      <td>30</td>\n",
       "    </tr>\n",
       "  </tbody>\n",
       "</table>\n",
       "</div>"
      ],
      "text/plain": [
       "   loan_amnt  int_rate grade  emp_length home_ownership  annual_inc  age\n",
       "0       5275     12.53     C         0.0           RENT     50000.0   31\n",
       "1      25000     11.49     B         8.0       MORTGAGE     51000.0   29\n",
       "2      10000      8.63     A         2.0           RENT     30000.0   31\n",
       "3      10000     10.95     B         0.0           RENT     50000.0   26\n",
       "4       3000     11.83     B         2.0           RENT     72000.0   30"
      ]
     },
     "execution_count": 132,
     "metadata": {},
     "output_type": "execute_result"
    }
   ],
   "source": [
    "X_test.head()"
   ]
  },
  {
   "cell_type": "code",
   "execution_count": 137,
   "metadata": {
    "collapsed": true
   },
   "outputs": [],
   "source": [
    "X_test[[\"grade\", \"home_ownership\"]] =  X_test[[\"grade\", \"home_ownership\"]].apply(LabelEncoder().fit_transform)"
   ]
  },
  {
   "cell_type": "code",
   "execution_count": 140,
   "metadata": {
    "collapsed": true
   },
   "outputs": [],
   "source": [
    "X_test = X_test.fillna(X_test.mean())"
   ]
  },
  {
   "cell_type": "code",
   "execution_count": 141,
   "metadata": {
    "collapsed": false
   },
   "outputs": [
    {
     "data": {
      "text/html": [
       "<div>\n",
       "<table border=\"1\" class=\"dataframe\">\n",
       "  <thead>\n",
       "    <tr style=\"text-align: right;\">\n",
       "      <th></th>\n",
       "      <th>loan_amnt</th>\n",
       "      <th>int_rate</th>\n",
       "      <th>grade</th>\n",
       "      <th>emp_length</th>\n",
       "      <th>home_ownership</th>\n",
       "      <th>annual_inc</th>\n",
       "      <th>age</th>\n",
       "    </tr>\n",
       "  </thead>\n",
       "  <tbody>\n",
       "    <tr>\n",
       "      <th>0</th>\n",
       "      <td>5275</td>\n",
       "      <td>12.53</td>\n",
       "      <td>2</td>\n",
       "      <td>0.0</td>\n",
       "      <td>3</td>\n",
       "      <td>50000.0</td>\n",
       "      <td>31</td>\n",
       "    </tr>\n",
       "    <tr>\n",
       "      <th>1</th>\n",
       "      <td>25000</td>\n",
       "      <td>11.49</td>\n",
       "      <td>1</td>\n",
       "      <td>8.0</td>\n",
       "      <td>0</td>\n",
       "      <td>51000.0</td>\n",
       "      <td>29</td>\n",
       "    </tr>\n",
       "    <tr>\n",
       "      <th>2</th>\n",
       "      <td>10000</td>\n",
       "      <td>8.63</td>\n",
       "      <td>0</td>\n",
       "      <td>2.0</td>\n",
       "      <td>3</td>\n",
       "      <td>30000.0</td>\n",
       "      <td>31</td>\n",
       "    </tr>\n",
       "    <tr>\n",
       "      <th>3</th>\n",
       "      <td>10000</td>\n",
       "      <td>10.95</td>\n",
       "      <td>1</td>\n",
       "      <td>0.0</td>\n",
       "      <td>3</td>\n",
       "      <td>50000.0</td>\n",
       "      <td>26</td>\n",
       "    </tr>\n",
       "    <tr>\n",
       "      <th>4</th>\n",
       "      <td>3000</td>\n",
       "      <td>11.83</td>\n",
       "      <td>1</td>\n",
       "      <td>2.0</td>\n",
       "      <td>3</td>\n",
       "      <td>72000.0</td>\n",
       "      <td>30</td>\n",
       "    </tr>\n",
       "  </tbody>\n",
       "</table>\n",
       "</div>"
      ],
      "text/plain": [
       "   loan_amnt  int_rate  grade  emp_length  home_ownership  annual_inc  age\n",
       "0       5275     12.53      2         0.0               3     50000.0   31\n",
       "1      25000     11.49      1         8.0               0     51000.0   29\n",
       "2      10000      8.63      0         2.0               3     30000.0   31\n",
       "3      10000     10.95      1         0.0               3     50000.0   26\n",
       "4       3000     11.83      1         2.0               3     72000.0   30"
      ]
     },
     "execution_count": 141,
     "metadata": {},
     "output_type": "execute_result"
    }
   ],
   "source": [
    "X_test.head()"
   ]
  },
  {
   "cell_type": "code",
   "execution_count": 131,
   "metadata": {
    "collapsed": false
   },
   "outputs": [
    {
     "data": {
      "text/html": [
       "<div>\n",
       "<table border=\"1\" class=\"dataframe\">\n",
       "  <thead>\n",
       "    <tr style=\"text-align: right;\">\n",
       "      <th></th>\n",
       "      <th>default</th>\n",
       "      <th>default_amount</th>\n",
       "    </tr>\n",
       "  </thead>\n",
       "  <tbody>\n",
       "    <tr>\n",
       "      <th>0</th>\n",
       "      <td>0</td>\n",
       "      <td>0</td>\n",
       "    </tr>\n",
       "    <tr>\n",
       "      <th>1</th>\n",
       "      <td>0</td>\n",
       "      <td>0</td>\n",
       "    </tr>\n",
       "    <tr>\n",
       "      <th>2</th>\n",
       "      <td>0</td>\n",
       "      <td>0</td>\n",
       "    </tr>\n",
       "    <tr>\n",
       "      <th>3</th>\n",
       "      <td>0</td>\n",
       "      <td>0</td>\n",
       "    </tr>\n",
       "    <tr>\n",
       "      <th>4</th>\n",
       "      <td>0</td>\n",
       "      <td>0</td>\n",
       "    </tr>\n",
       "  </tbody>\n",
       "</table>\n",
       "</div>"
      ],
      "text/plain": [
       "   default  default_amount\n",
       "0        0               0\n",
       "1        0               0\n",
       "2        0               0\n",
       "3        0               0\n",
       "4        0               0"
      ]
     },
     "execution_count": 131,
     "metadata": {},
     "output_type": "execute_result"
    }
   ],
   "source": [
    "y_test.head()"
   ]
  },
  {
   "cell_type": "code",
   "execution_count": 135,
   "metadata": {
    "collapsed": false
   },
   "outputs": [
    {
     "name": "stdout",
     "output_type": "stream",
     "text": [
      "Accuracy Score\n",
      "0.889041660938\n",
      "auc\n",
      "0.5\n"
     ]
    }
   ],
   "source": [
    "# Model 1: Benchmark\n",
    "model1_prediction = np.repeat([0], X_test.shape[0])\n",
    "\n",
    "predictions = pd.DataFrame({\"actual\":y_test.iloc[:,0],\n",
    "                           \"predicted\":model1_prediction})\n",
    "\n",
    "print(\"Accuracy Score\")\n",
    "print(accuracy_score(predictions.actual, predictions.predicted))\n",
    "print(\"auc\")\n",
    "print(roc_auc_score(predictions.actual, predictions.predicted))"
   ]
  },
  {
   "cell_type": "code",
   "execution_count": 151,
   "metadata": {
    "collapsed": false
   },
   "outputs": [
    {
     "name": "stdout",
     "output_type": "stream",
     "text": [
      "Accuracy Score\n",
      "0.859067784958\n",
      "auc\n",
      "0.528149435557\n"
     ]
    }
   ],
   "source": [
    "# Model 2: :Linear Regression\n",
    "\n",
    "model2_prediction = model2.predict(X_test)\n",
    "\n",
    "model2_prediction[model2_prediction>0.2] = 1\n",
    "model2_prediction[model2_prediction <= 0.2] = 0\n",
    "\n",
    "predictions = pd.DataFrame({\"actual\":y_test.iloc[:,0],\n",
    "                           \"predicted\":model2_prediction})\n",
    "\n",
    "print(\"Accuracy Score\")\n",
    "print(accuracy_score(predictions.actual, predictions.predicted))\n",
    "print(\"auc\")\n",
    "print(roc_auc_score(predictions.actual, predictions.predicted))"
   ]
  },
  {
   "cell_type": "code",
   "execution_count": 153,
   "metadata": {
    "collapsed": false
   },
   "outputs": [
    {
     "name": "stdout",
     "output_type": "stream",
     "text": [
      "Accuracy Score\n",
      "0.859067784958\n",
      "auc\n",
      "0.528149435557\n"
     ]
    }
   ],
   "source": [
    "# Model 3: Linear Regression\n",
    "\n",
    "model3_prediction = model3.predict(X_test)\n",
    "\n",
    "model3_prediction[model3_prediction>0.2] = 1\n",
    "model3_prediction[model3_prediction <= 0.2] = 0\n",
    "\n",
    "predictions = pd.DataFrame({\"actual\":y_test.iloc[:,0],\n",
    "                           \"predicted\":model3_prediction})\n",
    "\n",
    "print(\"Accuracy Score\")\n",
    "print(accuracy_score(predictions.actual, predictions.predicted))\n",
    "print(\"auc\")\n",
    "print(roc_auc_score(predictions.actual, predictions.predicted))\n"
   ]
  },
  {
   "cell_type": "code",
   "execution_count": 154,
   "metadata": {
    "collapsed": false
   },
   "outputs": [
    {
     "name": "stdout",
     "output_type": "stream",
     "text": [
      "Accuracy Score\n",
      "0.889041660938\n",
      "auc\n",
      "0.556485913736\n"
     ]
    }
   ],
   "source": [
    "# Model 4: Logistic Regression (L2)\n",
    "\n",
    "model4_prediction = model4.predict(X_test)\n",
    "\n",
    "predictions = pd.DataFrame({\"actual\":y_test.iloc[:,0],\n",
    "                           \"predicted\":model4_prediction})\n",
    "\n",
    "print(\"Accuracy Score\")\n",
    "print(accuracy_score(predictions.actual, predictions.predicted))\n",
    "\n",
    "model4_prediction = model4.predict_proba(X_test)\n",
    "\n",
    "predictions = pd.DataFrame({\"actual\":y_test.iloc[:,0],\n",
    "                           \"predicted\":model4_prediction[:,1]})\n",
    "\n",
    "\n",
    "print(\"auc\")\n",
    "print(roc_auc_score(predictions.actual, predictions.predicted))\n"
   ]
  },
  {
   "cell_type": "code",
   "execution_count": 155,
   "metadata": {
    "collapsed": false
   },
   "outputs": [
    {
     "name": "stdout",
     "output_type": "stream",
     "text": [
      "Accuracy Score\n",
      "0.889041660938\n",
      "auc\n",
      "0.643219264164\n"
     ]
    }
   ],
   "source": [
    "# Model 5: Logistic Regression (L1)\n",
    "\n",
    "model5_prediction = model5.predict(X_test)\n",
    "\n",
    "predictions = pd.DataFrame({\"actual\":y_test.iloc[:,0],\n",
    "                           \"predicted\":model5_prediction})\n",
    "\n",
    "print(\"Accuracy Score\")\n",
    "print(accuracy_score(predictions.actual, predictions.predicted))\n",
    "\n",
    "model5_prediction = model5.predict_proba(X_test)\n",
    "\n",
    "predictions = pd.DataFrame({\"actual\":y_test.iloc[:,0],\n",
    "                           \"predicted\":model5_prediction[:,1]})\n",
    "\n",
    "\n",
    "print(\"auc\")\n",
    "print(roc_auc_score(predictions.actual, predictions.predicted))\n"
   ]
  },
  {
   "cell_type": "code",
   "execution_count": 156,
   "metadata": {
    "collapsed": false
   },
   "outputs": [
    {
     "name": "stdout",
     "output_type": "stream",
     "text": [
      "Accuracy Score\n",
      "0.889041660938\n",
      "auc\n",
      "0.648316654727\n"
     ]
    }
   ],
   "source": [
    "# Model 6: Random Forest\n",
    "\n",
    "model6_prediction = model6.predict(X_test)\n",
    "\n",
    "predictions = pd.DataFrame({\"actual\":y_test.iloc[:,0],\n",
    "                           \"predicted\":model6_prediction})\n",
    "\n",
    "print(\"Accuracy Score\")\n",
    "print(accuracy_score(predictions.actual, predictions.predicted))\n",
    "\n",
    "model6_prediction = model6.predict_proba(X_test)\n",
    "\n",
    "predictions = pd.DataFrame({\"actual\":y_test.iloc[:,0],\n",
    "                           \"predicted\":model6_prediction[:,1]})\n",
    "\n",
    "\n",
    "print(\"auc\")\n",
    "print(roc_auc_score(predictions.actual, predictions.predicted))\n"
   ]
  },
  {
   "cell_type": "code",
   "execution_count": 157,
   "metadata": {
    "collapsed": false
   },
   "outputs": [
    {
     "name": "stdout",
     "output_type": "stream",
     "text": [
      "Accuracy Score\n",
      "0.885054310463\n",
      "auc\n",
      "0.627601013556\n"
     ]
    }
   ],
   "source": [
    "# Model 7: Gradient Boosting\n",
    "\n",
    "model7_prediction = model7.predict(X_test)\n",
    "\n",
    "predictions = pd.DataFrame({\"actual\":y_test.iloc[:,0],\n",
    "                           \"predicted\":model7_prediction})\n",
    "\n",
    "print(\"Accuracy Score\")\n",
    "print(accuracy_score(predictions.actual, predictions.predicted))\n",
    "\n",
    "model7_prediction = model7.predict_proba(X_test)\n",
    "\n",
    "predictions = pd.DataFrame({\"actual\":y_test.iloc[:,0],\n",
    "                           \"predicted\":model7_prediction[:,1]})\n",
    "\n",
    "\n",
    "print(\"auc\")\n",
    "print(roc_auc_score(predictions.actual, predictions.predicted))\n"
   ]
  },
  {
   "cell_type": "markdown",
   "metadata": {},
   "source": [
    "### What do we learn from this?\n",
    "\n",
    "- Choose the right metric for the problem\n",
    "- Here, accuracy score isn't very helpful. \n",
    "- For the end-user, it makes sense to know probability\n",
    "- So, we need to select the model that provides best discrimination on probability\n",
    "- `auc` a better metric\n",
    "- Based on that, L1-LogisticRegression or RandomForest are good choices\n",
    "- How do we improve this? There are two options: a) More features b) Feature Engineering"
   ]
  },
  {
   "cell_type": "code",
   "execution_count": null,
   "metadata": {
    "collapsed": true
   },
   "outputs": [],
   "source": []
  }
 ],
 "metadata": {
  "anaconda-cloud": {},
  "kernelspec": {
   "display_name": "Python [conda root]",
   "language": "python",
   "name": "conda-root-py"
  },
  "language_info": {
   "codemirror_mode": {
    "name": "ipython",
    "version": 3
   },
   "file_extension": ".py",
   "mimetype": "text/x-python",
   "name": "python",
   "nbconvert_exporter": "python",
   "pygments_lexer": "ipython3",
   "version": "3.5.2"
  }
 },
 "nbformat": 4,
 "nbformat_minor": 1
}
