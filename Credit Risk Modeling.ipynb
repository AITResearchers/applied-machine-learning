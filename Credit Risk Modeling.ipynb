{
 "cells": [
  {
   "cell_type": "markdown",
   "metadata": {},
   "source": [
    "# Credit Risk Modeling\n",
    "\n",
    "### What is credit risk?\n",
    "\n",
    "A credit risk is the **risk of default** on a debt that may arise from a borrower failing to make required payments. In the first resort, the risk is that of the lender and includes lost principal and interest, disruption to cash flows, and increased collection costs. The loss may be complete or partial. In an efficient market, higher levels of credit risk will be associated with higher borrowing costs.\n",
    "\n",
    "Losses can arise in a number of circumstances. For example:\n",
    "\n",
    "- A consumer may fail to make a payment due on a mortgage loan, credit card, line of credit, or other loan.\n",
    "- A company is unable to repay asset-secured fixed or floating charge debt.\n",
    "- A business or consumer does not pay a trade invoice when due.\n",
    "- A business does not pay an employee's earned wages when due.\n",
    "- A business or government bond issuer does not make a payment on a coupon or principal payment when due.\n",
    "- An insolvent insurance company does not pay a policy obligation.\n",
    "- An insolvent bank won't return funds to a depositor.\n",
    "- A government grants bankruptcy protection to an insolvent consumer or business.\n",
    "\n",
    "To reduce the lender's credit risk:\n",
    "\n",
    "- the lender may perform a credit check on the prospective borrower\n",
    "- may require the borrower to take out appropriate insurance, such as mortgage insurance, or \n",
    "- seek security over some assets of the borrower or a guarantee from a third party. \n",
    "\n",
    "The lender can also take out insurance against the risk or on-sell the debt to another company. In general, the higher the risk, the higher will be the interest rate that the debtor will be asked to pay on the debt. Credit risk mainly arises when borrowers are unable to pay due willingly or unwillingly.\n",
    "\n",
    "Re-iterating credit risk:\n",
    "\n",
    "- Credit risk refers to the risk that a borrower may not repay a loan and that the lender may lose the principal of the loan or the interest associated with it. (Eg: Failure to pay back mortgages, credit cards, personal loans, etc)\n",
    "\n",
    "- Higher credit risk equates to higher borrowing costs.\n",
    "\n",
    "For a lender(eg: bank), it is of paramount importance to assess credit risk of the borrower. \n",
    "\n",
    "\n",
    "source: [wikipedia](https://en.wikipedia.org/wiki/Credit_risk), [investopedia](http://www.investopedia.com/terms/c/creditrisk.asp), [Datacamp Course using R](https://www.datacamp.com/courses/introduction-to-credit-risk-modeling-in-r)"
   ]
  },
  {
   "cell_type": "markdown",
   "metadata": {},
   "source": [
    "# Problem Statement\n",
    "\n",
    "XYZ Bank wants to build a credit risk model for its personal loan division. XYZ has given personal loans before and has historical data about the customers and knows whether the loan defaulted or not. If the loan had defaulted, the amount defaulted was recorded.\n",
    "\n",
    "It wants you to build a credit risk model for its bankers.\n",
    "\n",
    "It will use it to determine whether to provide loan to applicants or not."
   ]
  },
  {
   "cell_type": "markdown",
   "metadata": {},
   "source": [
    "# Approach\n",
    "\n",
    "A very typical approach is to estimate the following two metrics for every applicant:\n",
    "\n",
    "`Probability of Default`: What is the probability that the applicant will default, if given the loan\n",
    "\n",
    "`Loss Given Default`: If the applicant defaults on the loan, what will be loss incurred by the bank?\n",
    "\n",
    "For the purpose of this model, Bank XYZ has asked you to ignore cash flows from interest and other costs incurred by the bank for processing and maintaining the loan and use only the data provided in the data. "
   ]
  },
  {
   "cell_type": "markdown",
   "metadata": {},
   "source": [
    "# Data\n",
    "\n",
    "You are provided with the following data:\n",
    "\n",
    "**train_creditRisk.csv**  \n",
    "This is the historical data that the bank has provided. It has the following columns\n",
    "\n",
    "`loan_amnt` : Amount of Loan provided to the applicant  \n",
    "`int_rate`: Interest rate charged for the applicant  \n",
    "`grade`:  Employment Grade of the applicant  \n",
    "`emp_length`: Number of years the applicant has been employed  \n",
    "`home_ownership`: Whether the applicant owns a house or not  \n",
    "`annual_inc`:  Annual income of the applicant  \n",
    "`age`: Age of the applicant  \n",
    "`default` : Whether the applicant has defaulted or not (target variable)  \n",
    "`default_amount`:  What was the loan amount that was defaulted (target variable)\n",
    "\n",
    "**testFeatures_creditRisk.csv**  \n",
    "This dataset has the features of the applicants that you need to score and provide *probability of default* and *loss given default* metrics. It has the same set of columns as the train dataset, except the `default` and `default_amount` columns.\n",
    "\n",
    "\n",
    "**testLabels_creditRisk.csv**  \n",
    "This has the target columns of the test dataset. Once the model has been finalized, the accuracy of the model is found out by comparing the predictions against the actual. "
   ]
  },
  {
   "cell_type": "markdown",
   "metadata": {},
   "source": [
    "# Loading the data"
   ]
  },
  {
   "cell_type": "code",
   "execution_count": 1,
   "metadata": {
    "collapsed": true
   },
   "outputs": [],
   "source": [
    "import pandas as pd"
   ]
  },
  {
   "cell_type": "code",
   "execution_count": 2,
   "metadata": {
    "collapsed": true
   },
   "outputs": [],
   "source": [
    "#Load the training dataset\n",
    "train = pd.read_csv(\"data/train_creditRisk.csv\")"
   ]
  },
  {
   "cell_type": "code",
   "execution_count": 3,
   "metadata": {
    "collapsed": false
   },
   "outputs": [
    {
     "data": {
      "text/html": [
       "<div>\n",
       "<table border=\"1\" class=\"dataframe\">\n",
       "  <thead>\n",
       "    <tr style=\"text-align: right;\">\n",
       "      <th></th>\n",
       "      <th>loan_amnt</th>\n",
       "      <th>int_rate</th>\n",
       "      <th>grade</th>\n",
       "      <th>emp_length</th>\n",
       "      <th>home_ownership</th>\n",
       "      <th>annual_inc</th>\n",
       "      <th>age</th>\n",
       "      <th>default</th>\n",
       "      <th>default_amount</th>\n",
       "    </tr>\n",
       "  </thead>\n",
       "  <tbody>\n",
       "    <tr>\n",
       "      <th>0</th>\n",
       "      <td>5750</td>\n",
       "      <td>NaN</td>\n",
       "      <td>D</td>\n",
       "      <td>1.0</td>\n",
       "      <td>OTHER</td>\n",
       "      <td>16000.0</td>\n",
       "      <td>27</td>\n",
       "      <td>0</td>\n",
       "      <td>0</td>\n",
       "    </tr>\n",
       "    <tr>\n",
       "      <th>1</th>\n",
       "      <td>7500</td>\n",
       "      <td>12.22</td>\n",
       "      <td>C</td>\n",
       "      <td>8.0</td>\n",
       "      <td>MORTGAGE</td>\n",
       "      <td>55000.0</td>\n",
       "      <td>27</td>\n",
       "      <td>1</td>\n",
       "      <td>4560</td>\n",
       "    </tr>\n",
       "    <tr>\n",
       "      <th>2</th>\n",
       "      <td>19000</td>\n",
       "      <td>11.99</td>\n",
       "      <td>B</td>\n",
       "      <td>4.0</td>\n",
       "      <td>RENT</td>\n",
       "      <td>47000.0</td>\n",
       "      <td>25</td>\n",
       "      <td>0</td>\n",
       "      <td>0</td>\n",
       "    </tr>\n",
       "    <tr>\n",
       "      <th>3</th>\n",
       "      <td>24000</td>\n",
       "      <td>9.91</td>\n",
       "      <td>B</td>\n",
       "      <td>3.0</td>\n",
       "      <td>MORTGAGE</td>\n",
       "      <td>50400.0</td>\n",
       "      <td>26</td>\n",
       "      <td>0</td>\n",
       "      <td>0</td>\n",
       "    </tr>\n",
       "    <tr>\n",
       "      <th>4</th>\n",
       "      <td>25000</td>\n",
       "      <td>10.62</td>\n",
       "      <td>B</td>\n",
       "      <td>8.0</td>\n",
       "      <td>MORTGAGE</td>\n",
       "      <td>156600.0</td>\n",
       "      <td>32</td>\n",
       "      <td>0</td>\n",
       "      <td>0</td>\n",
       "    </tr>\n",
       "  </tbody>\n",
       "</table>\n",
       "</div>"
      ],
      "text/plain": [
       "   loan_amnt  int_rate grade  emp_length home_ownership  annual_inc  age  \\\n",
       "0       5750       NaN     D         1.0          OTHER     16000.0   27   \n",
       "1       7500     12.22     C         8.0       MORTGAGE     55000.0   27   \n",
       "2      19000     11.99     B         4.0           RENT     47000.0   25   \n",
       "3      24000      9.91     B         3.0       MORTGAGE     50400.0   26   \n",
       "4      25000     10.62     B         8.0       MORTGAGE    156600.0   32   \n",
       "\n",
       "   default  default_amount  \n",
       "0        0               0  \n",
       "1        1            4560  \n",
       "2        0               0  \n",
       "3        0               0  \n",
       "4        0               0  "
      ]
     },
     "execution_count": 3,
     "metadata": {},
     "output_type": "execute_result"
    }
   ],
   "source": [
    "#View the first few rows of train\n",
    "train.head()"
   ]
  },
  {
   "cell_type": "code",
   "execution_count": 4,
   "metadata": {
    "collapsed": false
   },
   "outputs": [
    {
     "data": {
      "text/plain": [
       "Index(['loan_amnt', 'int_rate', 'grade', 'emp_length', 'home_ownership',\n",
       "       'annual_inc', 'age', 'default', 'default_amount'],\n",
       "      dtype='object')"
      ]
     },
     "execution_count": 4,
     "metadata": {},
     "output_type": "execute_result"
    }
   ],
   "source": [
    "#View the columns of the train dataset\n",
    "train.columns"
   ]
  },
  {
   "cell_type": "code",
   "execution_count": 5,
   "metadata": {
    "collapsed": false
   },
   "outputs": [
    {
     "data": {
      "text/plain": [
       "loan_amnt           int64\n",
       "int_rate          float64\n",
       "grade              object\n",
       "emp_length        float64\n",
       "home_ownership     object\n",
       "annual_inc        float64\n",
       "age                 int64\n",
       "default             int64\n",
       "default_amount      int64\n",
       "dtype: object"
      ]
     },
     "execution_count": 5,
     "metadata": {},
     "output_type": "execute_result"
    }
   ],
   "source": [
    "#View the data types of the train dataset\n",
    "train.dtypes"
   ]
  },
  {
   "cell_type": "code",
   "execution_count": 6,
   "metadata": {
    "collapsed": false
   },
   "outputs": [
    {
     "data": {
      "text/html": [
       "<div>\n",
       "<table border=\"1\" class=\"dataframe\">\n",
       "  <thead>\n",
       "    <tr style=\"text-align: right;\">\n",
       "      <th></th>\n",
       "      <th>loan_amnt</th>\n",
       "      <th>int_rate</th>\n",
       "      <th>emp_length</th>\n",
       "      <th>annual_inc</th>\n",
       "      <th>age</th>\n",
       "      <th>default</th>\n",
       "      <th>default_amount</th>\n",
       "    </tr>\n",
       "  </thead>\n",
       "  <tbody>\n",
       "    <tr>\n",
       "      <th>count</th>\n",
       "      <td>21819.000000</td>\n",
       "      <td>19711.000000</td>\n",
       "      <td>21212.000000</td>\n",
       "      <td>2.181900e+04</td>\n",
       "      <td>21819.000000</td>\n",
       "      <td>21819.000000</td>\n",
       "      <td>21819.000000</td>\n",
       "    </tr>\n",
       "    <tr>\n",
       "      <th>mean</th>\n",
       "      <td>9633.113342</td>\n",
       "      <td>10.984877</td>\n",
       "      <td>6.176221</td>\n",
       "      <td>6.750112e+04</td>\n",
       "      <td>27.704753</td>\n",
       "      <td>0.408589</td>\n",
       "      <td>1983.881250</td>\n",
       "    </tr>\n",
       "    <tr>\n",
       "      <th>std</th>\n",
       "      <td>6324.932999</td>\n",
       "      <td>3.235739</td>\n",
       "      <td>6.680542</td>\n",
       "      <td>6.757626e+04</td>\n",
       "      <td>6.284862</td>\n",
       "      <td>0.491584</td>\n",
       "      <td>3217.155453</td>\n",
       "    </tr>\n",
       "    <tr>\n",
       "      <th>min</th>\n",
       "      <td>500.000000</td>\n",
       "      <td>5.420000</td>\n",
       "      <td>0.000000</td>\n",
       "      <td>4.000000e+03</td>\n",
       "      <td>20.000000</td>\n",
       "      <td>0.000000</td>\n",
       "      <td>0.000000</td>\n",
       "    </tr>\n",
       "    <tr>\n",
       "      <th>25%</th>\n",
       "      <td>5000.000000</td>\n",
       "      <td>7.900000</td>\n",
       "      <td>2.000000</td>\n",
       "      <td>4.000000e+04</td>\n",
       "      <td>23.000000</td>\n",
       "      <td>0.000000</td>\n",
       "      <td>0.000000</td>\n",
       "    </tr>\n",
       "    <tr>\n",
       "      <th>50%</th>\n",
       "      <td>8000.000000</td>\n",
       "      <td>10.990000</td>\n",
       "      <td>4.000000</td>\n",
       "      <td>5.700000e+04</td>\n",
       "      <td>26.000000</td>\n",
       "      <td>0.000000</td>\n",
       "      <td>0.000000</td>\n",
       "    </tr>\n",
       "    <tr>\n",
       "      <th>75%</th>\n",
       "      <td>12500.000000</td>\n",
       "      <td>13.470000</td>\n",
       "      <td>8.000000</td>\n",
       "      <td>8.000000e+04</td>\n",
       "      <td>30.000000</td>\n",
       "      <td>1.000000</td>\n",
       "      <td>3240.000000</td>\n",
       "    </tr>\n",
       "    <tr>\n",
       "      <th>max</th>\n",
       "      <td>35000.000000</td>\n",
       "      <td>23.220000</td>\n",
       "      <td>62.000000</td>\n",
       "      <td>6.000000e+06</td>\n",
       "      <td>144.000000</td>\n",
       "      <td>1.000000</td>\n",
       "      <td>25146.000000</td>\n",
       "    </tr>\n",
       "  </tbody>\n",
       "</table>\n",
       "</div>"
      ],
      "text/plain": [
       "          loan_amnt      int_rate    emp_length    annual_inc           age  \\\n",
       "count  21819.000000  19711.000000  21212.000000  2.181900e+04  21819.000000   \n",
       "mean    9633.113342     10.984877      6.176221  6.750112e+04     27.704753   \n",
       "std     6324.932999      3.235739      6.680542  6.757626e+04      6.284862   \n",
       "min      500.000000      5.420000      0.000000  4.000000e+03     20.000000   \n",
       "25%     5000.000000      7.900000      2.000000  4.000000e+04     23.000000   \n",
       "50%     8000.000000     10.990000      4.000000  5.700000e+04     26.000000   \n",
       "75%    12500.000000     13.470000      8.000000  8.000000e+04     30.000000   \n",
       "max    35000.000000     23.220000     62.000000  6.000000e+06    144.000000   \n",
       "\n",
       "            default  default_amount  \n",
       "count  21819.000000    21819.000000  \n",
       "mean       0.408589     1983.881250  \n",
       "std        0.491584     3217.155453  \n",
       "min        0.000000        0.000000  \n",
       "25%        0.000000        0.000000  \n",
       "50%        0.000000        0.000000  \n",
       "75%        1.000000     3240.000000  \n",
       "max        1.000000    25146.000000  "
      ]
     },
     "execution_count": 6,
     "metadata": {},
     "output_type": "execute_result"
    }
   ],
   "source": [
    "#View summary of train \n",
    "train.describe()"
   ]
  },
  {
   "cell_type": "markdown",
   "metadata": {},
   "source": [
    "# Data Pre-processing\n",
    "\n",
    "We will do the following two data pre-processing before building our first set of models.\n",
    "\n",
    "1. handle missing values  \n",
    "2. handle categorical variables"
   ]
  },
  {
   "cell_type": "markdown",
   "metadata": {},
   "source": [
    "#### Missing values"
   ]
  },
  {
   "cell_type": "code",
   "execution_count": 8,
   "metadata": {
    "collapsed": false
   },
   "outputs": [
    {
     "data": {
      "text/html": [
       "<div>\n",
       "<table border=\"1\" class=\"dataframe\">\n",
       "  <thead>\n",
       "    <tr style=\"text-align: right;\">\n",
       "      <th></th>\n",
       "      <th>loan_amnt</th>\n",
       "      <th>int_rate</th>\n",
       "      <th>grade</th>\n",
       "      <th>emp_length</th>\n",
       "      <th>home_ownership</th>\n",
       "      <th>annual_inc</th>\n",
       "      <th>age</th>\n",
       "      <th>default</th>\n",
       "      <th>default_amount</th>\n",
       "    </tr>\n",
       "  </thead>\n",
       "  <tbody>\n",
       "    <tr>\n",
       "      <th>0</th>\n",
       "      <td>False</td>\n",
       "      <td>True</td>\n",
       "      <td>False</td>\n",
       "      <td>False</td>\n",
       "      <td>False</td>\n",
       "      <td>False</td>\n",
       "      <td>False</td>\n",
       "      <td>False</td>\n",
       "      <td>False</td>\n",
       "    </tr>\n",
       "    <tr>\n",
       "      <th>1</th>\n",
       "      <td>False</td>\n",
       "      <td>False</td>\n",
       "      <td>False</td>\n",
       "      <td>False</td>\n",
       "      <td>False</td>\n",
       "      <td>False</td>\n",
       "      <td>False</td>\n",
       "      <td>False</td>\n",
       "      <td>False</td>\n",
       "    </tr>\n",
       "    <tr>\n",
       "      <th>2</th>\n",
       "      <td>False</td>\n",
       "      <td>False</td>\n",
       "      <td>False</td>\n",
       "      <td>False</td>\n",
       "      <td>False</td>\n",
       "      <td>False</td>\n",
       "      <td>False</td>\n",
       "      <td>False</td>\n",
       "      <td>False</td>\n",
       "    </tr>\n",
       "    <tr>\n",
       "      <th>3</th>\n",
       "      <td>False</td>\n",
       "      <td>False</td>\n",
       "      <td>False</td>\n",
       "      <td>False</td>\n",
       "      <td>False</td>\n",
       "      <td>False</td>\n",
       "      <td>False</td>\n",
       "      <td>False</td>\n",
       "      <td>False</td>\n",
       "    </tr>\n",
       "    <tr>\n",
       "      <th>4</th>\n",
       "      <td>False</td>\n",
       "      <td>False</td>\n",
       "      <td>False</td>\n",
       "      <td>False</td>\n",
       "      <td>False</td>\n",
       "      <td>False</td>\n",
       "      <td>False</td>\n",
       "      <td>False</td>\n",
       "      <td>False</td>\n",
       "    </tr>\n",
       "  </tbody>\n",
       "</table>\n",
       "</div>"
      ],
      "text/plain": [
       "  loan_amnt int_rate  grade emp_length home_ownership annual_inc    age  \\\n",
       "0     False     True  False      False          False      False  False   \n",
       "1     False    False  False      False          False      False  False   \n",
       "2     False    False  False      False          False      False  False   \n",
       "3     False    False  False      False          False      False  False   \n",
       "4     False    False  False      False          False      False  False   \n",
       "\n",
       "  default default_amount  \n",
       "0   False          False  \n",
       "1   False          False  \n",
       "2   False          False  \n",
       "3   False          False  \n",
       "4   False          False  "
      ]
     },
     "execution_count": 8,
     "metadata": {},
     "output_type": "execute_result"
    }
   ],
   "source": [
    "#Find if train has missing values.\n",
    "# There is a isnull() function\n",
    "train.isnull().head()"
   ]
  },
  {
   "cell_type": "code",
   "execution_count": 9,
   "metadata": {
    "collapsed": false
   },
   "outputs": [
    {
     "data": {
      "text/plain": [
       "loan_amnt         False\n",
       "int_rate           True\n",
       "grade             False\n",
       "emp_length         True\n",
       "home_ownership    False\n",
       "annual_inc        False\n",
       "age               False\n",
       "default           False\n",
       "default_amount    False\n",
       "dtype: bool"
      ]
     },
     "execution_count": 9,
     "metadata": {},
     "output_type": "execute_result"
    }
   ],
   "source": [
    "#The above is kinda hard to comprehend. \n",
    "#It tells if every single element is null or not\n",
    "#What we want first is to find if a column has missing values or not\n",
    "#let's find that first\n",
    "train.isnull().any()"
   ]
  },
  {
   "cell_type": "code",
   "execution_count": 19,
   "metadata": {
    "collapsed": false
   },
   "outputs": [
    {
     "data": {
      "text/plain": [
       "loan_amnt         0\n",
       "int_rate          0\n",
       "grade             0\n",
       "emp_length        0\n",
       "home_ownership    0\n",
       "annual_inc        0\n",
       "age               0\n",
       "default           0\n",
       "default_amount    0\n",
       "dtype: int64"
      ]
     },
     "execution_count": 19,
     "metadata": {},
     "output_type": "execute_result"
    }
   ],
   "source": [
    "#One consideration we check here is the number of observations with missing \n",
    "#values for those columns that have missing values\n",
    "#If a column has too many missing values, it might make sense \n",
    "#to drop the column.\n",
    "#let's see how many missing values are present\n",
    "train.isnull().sum()"
   ]
  },
  {
   "cell_type": "code",
   "execution_count": 10,
   "metadata": {
    "collapsed": true
   },
   "outputs": [],
   "source": [
    "#So, we see that two columns have missing values. : int_rate and emp_length\n",
    "#Both the columns are numeric. \n",
    "#Let's replace missing values with the mean of the column"
   ]
  },
  {
   "cell_type": "code",
   "execution_count": 12,
   "metadata": {
    "collapsed": false
   },
   "outputs": [
    {
     "data": {
      "text/plain": [
       "loan_amnt          9633.113342\n",
       "int_rate             10.984877\n",
       "emp_length            6.176221\n",
       "annual_inc        67501.115503\n",
       "age                  27.704753\n",
       "default               0.408589\n",
       "default_amount     1983.881250\n",
       "dtype: float64"
      ]
     },
     "execution_count": 12,
     "metadata": {},
     "output_type": "execute_result"
    }
   ],
   "source": [
    "train.mean()"
   ]
  },
  {
   "cell_type": "code",
   "execution_count": 17,
   "metadata": {
    "collapsed": false
   },
   "outputs": [],
   "source": [
    "#there's a fillna function\n",
    "train = train.fillna(train.mean())"
   ]
  },
  {
   "cell_type": "code",
   "execution_count": 18,
   "metadata": {
    "collapsed": false
   },
   "outputs": [
    {
     "data": {
      "text/plain": [
       "loan_amnt         False\n",
       "int_rate          False\n",
       "grade             False\n",
       "emp_length        False\n",
       "home_ownership    False\n",
       "annual_inc        False\n",
       "age               False\n",
       "default           False\n",
       "default_amount    False\n",
       "dtype: bool"
      ]
     },
     "execution_count": 18,
     "metadata": {},
     "output_type": "execute_result"
    }
   ],
   "source": [
    "#Now, let's check if train has missing values or not\n",
    "train.isnull().any()"
   ]
  },
  {
   "cell_type": "markdown",
   "metadata": {},
   "source": [
    "#### Categorical variables"
   ]
  },
  {
   "cell_type": "code",
   "execution_count": 20,
   "metadata": {
    "collapsed": true
   },
   "outputs": [],
   "source": [
    "#We will use sklearn's LabelEncoder function\n",
    "\n",
    "from sklearn.preprocessing import LabelEncoder"
   ]
  },
  {
   "cell_type": "code",
   "execution_count": null,
   "metadata": {
    "collapsed": true
   },
   "outputs": [],
   "source": [
    "#Replace grade and home_ownership with the labelEncoder"
   ]
  },
  {
   "cell_type": "code",
   "execution_count": 25,
   "metadata": {
    "collapsed": false
   },
   "outputs": [],
   "source": [
    "train[[\"grade\", \"home_ownership\"]] =  train[[\"grade\", \"home_ownership\"]].apply(LabelEncoder().fit_transform)"
   ]
  },
  {
   "cell_type": "code",
   "execution_count": 26,
   "metadata": {
    "collapsed": false
   },
   "outputs": [
    {
     "data": {
      "text/html": [
       "<div>\n",
       "<table border=\"1\" class=\"dataframe\">\n",
       "  <thead>\n",
       "    <tr style=\"text-align: right;\">\n",
       "      <th></th>\n",
       "      <th>loan_amnt</th>\n",
       "      <th>int_rate</th>\n",
       "      <th>grade</th>\n",
       "      <th>emp_length</th>\n",
       "      <th>home_ownership</th>\n",
       "      <th>annual_inc</th>\n",
       "      <th>age</th>\n",
       "      <th>default</th>\n",
       "      <th>default_amount</th>\n",
       "    </tr>\n",
       "  </thead>\n",
       "  <tbody>\n",
       "    <tr>\n",
       "      <th>0</th>\n",
       "      <td>5750</td>\n",
       "      <td>10.984877</td>\n",
       "      <td>3</td>\n",
       "      <td>1.0</td>\n",
       "      <td>1</td>\n",
       "      <td>16000.0</td>\n",
       "      <td>27</td>\n",
       "      <td>0</td>\n",
       "      <td>0</td>\n",
       "    </tr>\n",
       "    <tr>\n",
       "      <th>1</th>\n",
       "      <td>7500</td>\n",
       "      <td>12.220000</td>\n",
       "      <td>2</td>\n",
       "      <td>8.0</td>\n",
       "      <td>0</td>\n",
       "      <td>55000.0</td>\n",
       "      <td>27</td>\n",
       "      <td>1</td>\n",
       "      <td>4560</td>\n",
       "    </tr>\n",
       "    <tr>\n",
       "      <th>2</th>\n",
       "      <td>19000</td>\n",
       "      <td>11.990000</td>\n",
       "      <td>1</td>\n",
       "      <td>4.0</td>\n",
       "      <td>3</td>\n",
       "      <td>47000.0</td>\n",
       "      <td>25</td>\n",
       "      <td>0</td>\n",
       "      <td>0</td>\n",
       "    </tr>\n",
       "    <tr>\n",
       "      <th>3</th>\n",
       "      <td>24000</td>\n",
       "      <td>9.910000</td>\n",
       "      <td>1</td>\n",
       "      <td>3.0</td>\n",
       "      <td>0</td>\n",
       "      <td>50400.0</td>\n",
       "      <td>26</td>\n",
       "      <td>0</td>\n",
       "      <td>0</td>\n",
       "    </tr>\n",
       "    <tr>\n",
       "      <th>4</th>\n",
       "      <td>25000</td>\n",
       "      <td>10.620000</td>\n",
       "      <td>1</td>\n",
       "      <td>8.0</td>\n",
       "      <td>0</td>\n",
       "      <td>156600.0</td>\n",
       "      <td>32</td>\n",
       "      <td>0</td>\n",
       "      <td>0</td>\n",
       "    </tr>\n",
       "  </tbody>\n",
       "</table>\n",
       "</div>"
      ],
      "text/plain": [
       "   loan_amnt   int_rate  grade  emp_length  home_ownership  annual_inc  age  \\\n",
       "0       5750  10.984877      3         1.0               1     16000.0   27   \n",
       "1       7500  12.220000      2         8.0               0     55000.0   27   \n",
       "2      19000  11.990000      1         4.0               3     47000.0   25   \n",
       "3      24000   9.910000      1         3.0               0     50400.0   26   \n",
       "4      25000  10.620000      1         8.0               0    156600.0   32   \n",
       "\n",
       "   default  default_amount  \n",
       "0        0               0  \n",
       "1        1            4560  \n",
       "2        0               0  \n",
       "3        0               0  \n",
       "4        0               0  "
      ]
     },
     "execution_count": 26,
     "metadata": {},
     "output_type": "execute_result"
    }
   ],
   "source": [
    "#Look at train to check if it worked fine\n",
    "train.head()"
   ]
  },
  {
   "cell_type": "code",
   "execution_count": 27,
   "metadata": {
    "collapsed": false
   },
   "outputs": [
    {
     "data": {
      "text/plain": [
       "loan_amnt           int64\n",
       "int_rate          float64\n",
       "grade               int64\n",
       "emp_length        float64\n",
       "home_ownership      int64\n",
       "annual_inc        float64\n",
       "age                 int64\n",
       "default             int64\n",
       "default_amount      int64\n",
       "dtype: object"
      ]
     },
     "execution_count": 27,
     "metadata": {},
     "output_type": "execute_result"
    }
   ],
   "source": [
    "#check at the types\n",
    "train.dtypes"
   ]
  },
  {
   "cell_type": "code",
   "execution_count": null,
   "metadata": {
    "collapsed": true
   },
   "outputs": [],
   "source": [
    "#We are good to build our first model"
   ]
  }
 ],
 "metadata": {
  "anaconda-cloud": {},
  "kernelspec": {
   "display_name": "Python [conda root]",
   "language": "python",
   "name": "conda-root-py"
  },
  "language_info": {
   "codemirror_mode": {
    "name": "ipython",
    "version": 3
   },
   "file_extension": ".py",
   "mimetype": "text/x-python",
   "name": "python",
   "nbconvert_exporter": "python",
   "pygments_lexer": "ipython3",
   "version": "3.5.2"
  }
 },
 "nbformat": 4,
 "nbformat_minor": 1
}
